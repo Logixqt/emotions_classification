{
 "cells": [
  {
   "cell_type": "code",
   "execution_count": 1,
   "metadata": {
    "_cell_guid": "b1076dfc-b9ad-4769-8c92-a6c4dae69d19",
    "_uuid": "8f2839f25d086af736a60e9eeb907d3b93b6e0e5",
    "execution": {
     "iopub.execute_input": "2021-01-09T12:02:19.295285Z",
     "iopub.status.busy": "2021-01-09T12:02:19.294715Z",
     "iopub.status.idle": "2021-01-09T12:02:24.202645Z",
     "shell.execute_reply": "2021-01-09T12:02:24.203064Z"
    },
    "papermill": {
     "duration": 4.923295,
     "end_time": "2021-01-09T12:02:24.203298",
     "exception": false,
     "start_time": "2021-01-09T12:02:19.280003",
     "status": "completed"
    },
    "tags": []
   },
   "outputs": [
    {
     "name": "stdout",
     "output_type": "stream",
     "text": [
      "tf version: 2.3.1\n"
     ]
    }
   ],
   "source": [
    "import numpy as np\n",
    "import pandas as pd\n",
    "from sklearn.model_selection import train_test_split\n",
    "import tensorflow as tf\n",
    "import tensorflow.keras.applications.efficientnet as efn\n",
    "import scipy as sp\n",
    "import os\n",
    "from os.path import isfile, join\n",
    "\n",
    "EFNETS = (efn.EfficientNetB0, efn.EfficientNetB1, efn.EfficientNetB2, efn.EfficientNetB3, \n",
    "          efn.EfficientNetB4, efn.EfficientNetB5, efn.EfficientNetB6, efn.EfficientNetB7)\n",
    "    \n",
    "print(f'tf version: {tf.__version__}')"
   ]
  },
  {
   "cell_type": "code",
   "execution_count": 2,
   "metadata": {
    "execution": {
     "iopub.execute_input": "2021-01-09T12:02:24.225897Z",
     "iopub.status.busy": "2021-01-09T12:02:24.225362Z",
     "iopub.status.idle": "2021-01-09T12:02:27.886131Z",
     "shell.execute_reply": "2021-01-09T12:02:27.884677Z"
    },
    "papermill": {
     "duration": 3.675733,
     "end_time": "2021-01-09T12:02:27.886263",
     "exception": false,
     "start_time": "2021-01-09T12:02:24.210530",
     "status": "completed"
    },
    "tags": []
   },
   "outputs": [],
   "source": [
    "N_CLASSES = 9\n",
    "SEED = 17\n",
    "IMAGES_DIR = '/kaggle/input/skillbox-emotions/'\n",
    "TEST_DIR = IMAGES_DIR + '/test_kaggle'\n",
    "\n",
    "train_df = pd.read_csv('/kaggle/input/skillbox-computer-vision-project/train.csv').iloc[:, 1:]\n",
    "sub = pd.read_csv('/kaggle/input/skillbox-computer-vision-project/sample_submission.csv')\n",
    "images_test_filenames =  [f for f in os.listdir(TEST_DIR) if isfile(join(TEST_DIR, f))]\n",
    "\n",
    "train_df, val_df = train_test_split(train_df, test_size=0.1, random_state=SEED)"
   ]
  },
  {
   "cell_type": "code",
   "execution_count": 3,
   "metadata": {
    "execution": {
     "iopub.execute_input": "2021-01-09T12:02:27.905931Z",
     "iopub.status.busy": "2021-01-09T12:02:27.905175Z",
     "iopub.status.idle": "2021-01-09T12:02:27.908034Z",
     "shell.execute_reply": "2021-01-09T12:02:27.907612Z"
    },
    "papermill": {
     "duration": 0.014314,
     "end_time": "2021-01-09T12:02:27.908126",
     "exception": false,
     "start_time": "2021-01-09T12:02:27.893812",
     "status": "completed"
    },
    "tags": []
   },
   "outputs": [],
   "source": [
    "train_data_gen = tf.keras.preprocessing.image.ImageDataGenerator()\n",
    "val_data_gen = tf.keras.preprocessing.image.ImageDataGenerator()\n",
    "test_data_gen = tf.keras.preprocessing.image.ImageDataGenerator()"
   ]
  },
  {
   "cell_type": "code",
   "execution_count": 4,
   "metadata": {
    "execution": {
     "iopub.execute_input": "2021-01-09T12:02:27.931419Z",
     "iopub.status.busy": "2021-01-09T12:02:27.929119Z",
     "iopub.status.idle": "2021-01-09T12:03:25.527833Z",
     "shell.execute_reply": "2021-01-09T12:03:25.528582Z"
    },
    "papermill": {
     "duration": 57.613983,
     "end_time": "2021-01-09T12:03:25.528777",
     "exception": false,
     "start_time": "2021-01-09T12:02:27.914794",
     "status": "completed"
    },
    "tags": []
   },
   "outputs": [
    {
     "name": "stdout",
     "output_type": "stream",
     "text": [
      "Found 45041 validated image filenames belonging to 9 classes.\n",
      "Found 5005 validated image filenames belonging to 9 classes.\n",
      "Found 5000 validated image filenames.\n"
     ]
    }
   ],
   "source": [
    "EFNET_NO = 2\n",
    "BATCH_SIZE = 64\n",
    "IMSIZES = (224, 240, 260, 300, 380, 456, 528, 600)\n",
    "IMAGE_SIZE = IMSIZES[EFNET_NO]\n",
    "\n",
    "train_data = train_data_gen.flow_from_dataframe(\n",
    "              train_df, directory=IMAGES_DIR, x_col='image_path', y_col='emotion',\n",
    "              target_size=(IMAGE_SIZE, IMAGE_SIZE), class_mode='sparse', batch_size=BATCH_SIZE, shuffle=True\n",
    "          )\n",
    "val_data = val_data_gen.flow_from_dataframe(\n",
    "              val_df, directory=IMAGES_DIR, x_col='image_path', y_col='emotion', \n",
    "              target_size=(IMAGE_SIZE, IMAGE_SIZE), class_mode='sparse', batch_size=BATCH_SIZE, shuffle=False\n",
    "          )\n",
    "test_data = test_data_gen.flow_from_dataframe(\n",
    "              sub, directory=TEST_DIR, x_col='image_path', y_col=None,  \n",
    "              target_size=(IMAGE_SIZE, IMAGE_SIZE), class_mode=None, batch_size=BATCH_SIZE, shuffle=False\n",
    "          )"
   ]
  },
  {
   "cell_type": "code",
   "execution_count": 5,
   "metadata": {
    "execution": {
     "iopub.execute_input": "2021-01-09T12:03:25.554410Z",
     "iopub.status.busy": "2021-01-09T12:03:25.553853Z",
     "iopub.status.idle": "2021-01-09T12:03:32.489133Z",
     "shell.execute_reply": "2021-01-09T12:03:32.488621Z"
    },
    "papermill": {
     "duration": 6.951064,
     "end_time": "2021-01-09T12:03:32.489252",
     "exception": false,
     "start_time": "2021-01-09T12:03:25.538188",
     "status": "completed"
    },
    "tags": []
   },
   "outputs": [
    {
     "name": "stdout",
     "output_type": "stream",
     "text": [
      "Model: \"sequential\"\n",
      "_________________________________________________________________\n",
      "Layer (type)                 Output Shape              Param #   \n",
      "=================================================================\n",
      "efficientnetb2 (Functional)  (None, 9, 9, 1408)        7768569   \n",
      "_________________________________________________________________\n",
      "global_average_pooling2d (Gl (None, 1408)              0         \n",
      "_________________________________________________________________\n",
      "dense (Dense)                (None, 9)                 12681     \n",
      "=================================================================\n",
      "Total params: 7,781,250\n",
      "Trainable params: 7,713,675\n",
      "Non-trainable params: 67,575\n",
      "_________________________________________________________________\n"
     ]
    }
   ],
   "source": [
    "model = tf.keras.Sequential([\n",
    "    EFNETS[EFNET_NO](\n",
    "        input_shape=(IMAGE_SIZE, IMAGE_SIZE, 3),\n",
    "        weights=None,\n",
    "        include_top=False),\n",
    "    tf.keras.layers.GlobalAveragePooling2D(),\n",
    "    tf.keras.layers.Dense(N_CLASSES, activation='softmax')\n",
    "])\n",
    "model.compile(\n",
    "    optimizer='adam',\n",
    "    loss='sparse_categorical_crossentropy',\n",
    "    metrics='accuracy')\n",
    "model.summary()"
   ]
  },
  {
   "cell_type": "code",
   "execution_count": 6,
   "metadata": {
    "execution": {
     "iopub.execute_input": "2021-01-09T12:03:32.510235Z",
     "iopub.status.busy": "2021-01-09T12:03:32.509693Z",
     "iopub.status.idle": "2021-01-09T12:03:32.513644Z",
     "shell.execute_reply": "2021-01-09T12:03:32.513203Z"
    },
    "papermill": {
     "duration": 0.01606,
     "end_time": "2021-01-09T12:03:32.513725",
     "exception": false,
     "start_time": "2021-01-09T12:03:32.497665",
     "status": "completed"
    },
    "tags": []
   },
   "outputs": [],
   "source": [
    "checkpoint = tf.keras.callbacks.ModelCheckpoint(\n",
    "    'model.h5', save_best_only=True, monitor='val_accuracy', mode='max', verbose=1)"
   ]
  },
  {
   "cell_type": "code",
   "execution_count": 7,
   "metadata": {
    "execution": {
     "iopub.execute_input": "2021-01-09T12:03:32.535922Z",
     "iopub.status.busy": "2021-01-09T12:03:32.535410Z",
     "iopub.status.idle": "2021-01-09T14:03:56.295449Z",
     "shell.execute_reply": "2021-01-09T14:03:56.296184Z"
    },
    "papermill": {
     "duration": 7223.774635,
     "end_time": "2021-01-09T14:03:56.296397",
     "exception": false,
     "start_time": "2021-01-09T12:03:32.521762",
     "status": "completed"
    },
    "tags": []
   },
   "outputs": [
    {
     "name": "stdout",
     "output_type": "stream",
     "text": [
      "Epoch 1/10\n",
      "704/704 [==============================] - ETA: 0s - loss: 2.1951 - accuracy: 0.1462\n",
      "Epoch 00001: val_accuracy improved from -inf to 0.15644, saving model to model.h5\n",
      "704/704 [==============================] - 832s 1s/step - loss: 2.1951 - accuracy: 0.1462 - val_loss: 2.1531 - val_accuracy: 0.1564\n",
      "Epoch 2/10\n",
      "704/704 [==============================] - ETA: 0s - loss: 2.1455 - accuracy: 0.1639\n",
      "Epoch 00002: val_accuracy improved from 0.15644 to 0.19201, saving model to model.h5\n",
      "704/704 [==============================] - 701s 996ms/step - loss: 2.1455 - accuracy: 0.1639 - val_loss: 2.1192 - val_accuracy: 0.1920\n",
      "Epoch 3/10\n",
      "704/704 [==============================] - ETA: 0s - loss: 1.9469 - accuracy: 0.2753\n",
      "Epoch 00003: val_accuracy improved from 0.19201 to 0.32328, saving model to model.h5\n",
      "704/704 [==============================] - 702s 997ms/step - loss: 1.9469 - accuracy: 0.2753 - val_loss: 1.8444 - val_accuracy: 0.3233\n",
      "Epoch 4/10\n",
      "704/704 [==============================] - ETA: 0s - loss: 1.7155 - accuracy: 0.3736\n",
      "Epoch 00004: val_accuracy improved from 0.32328 to 0.40799, saving model to model.h5\n",
      "704/704 [==============================] - 705s 1s/step - loss: 1.7155 - accuracy: 0.3736 - val_loss: 1.6333 - val_accuracy: 0.4080\n",
      "Epoch 5/10\n",
      "704/704 [==============================] - ETA: 0s - loss: 1.5482 - accuracy: 0.4339\n",
      "Epoch 00005: val_accuracy improved from 0.40799 to 0.43876, saving model to model.h5\n",
      "704/704 [==============================] - 705s 1s/step - loss: 1.5482 - accuracy: 0.4339 - val_loss: 1.5715 - val_accuracy: 0.4388\n",
      "Epoch 6/10\n",
      "704/704 [==============================] - ETA: 0s - loss: 1.4431 - accuracy: 0.4744\n",
      "Epoch 00006: val_accuracy improved from 0.43876 to 0.44216, saving model to model.h5\n",
      "704/704 [==============================] - 707s 1s/step - loss: 1.4431 - accuracy: 0.4744 - val_loss: 1.5256 - val_accuracy: 0.4422\n",
      "Epoch 7/10\n",
      "704/704 [==============================] - ETA: 0s - loss: 1.3498 - accuracy: 0.5074\n",
      "Epoch 00007: val_accuracy improved from 0.44216 to 0.45614, saving model to model.h5\n",
      "704/704 [==============================] - 707s 1s/step - loss: 1.3498 - accuracy: 0.5074 - val_loss: 1.5499 - val_accuracy: 0.4561\n",
      "Epoch 8/10\n",
      "704/704 [==============================] - ETA: 0s - loss: 1.2569 - accuracy: 0.5395\n",
      "Epoch 00008: val_accuracy improved from 0.45614 to 0.46653, saving model to model.h5\n",
      "704/704 [==============================] - 711s 1s/step - loss: 1.2569 - accuracy: 0.5395 - val_loss: 1.5084 - val_accuracy: 0.4665\n",
      "Epoch 9/10\n",
      "704/704 [==============================] - ETA: 0s - loss: 1.1451 - accuracy: 0.5823\n",
      "Epoch 00009: val_accuracy did not improve from 0.46653\n",
      "704/704 [==============================] - 711s 1s/step - loss: 1.1451 - accuracy: 0.5823 - val_loss: 1.5838 - val_accuracy: 0.4615\n",
      "Epoch 10/10\n",
      "704/704 [==============================] - ETA: 0s - loss: 1.0339 - accuracy: 0.6239\n",
      "Epoch 00010: val_accuracy did not improve from 0.46653\n",
      "704/704 [==============================] - 713s 1s/step - loss: 1.0339 - accuracy: 0.6239 - val_loss: 1.6535 - val_accuracy: 0.4440\n"
     ]
    }
   ],
   "source": [
    "history = model.fit(\n",
    "    train_data, validation_data=val_data, \n",
    "    epochs=10, callbacks=[checkpoint])"
   ]
  },
  {
   "cell_type": "code",
   "execution_count": 8,
   "metadata": {
    "execution": {
     "iopub.execute_input": "2021-01-09T14:04:00.627652Z",
     "iopub.status.busy": "2021-01-09T14:04:00.591621Z",
     "iopub.status.idle": "2021-01-09T14:04:00.850896Z",
     "shell.execute_reply": "2021-01-09T14:04:00.849757Z"
    },
    "papermill": {
     "duration": 2.539156,
     "end_time": "2021-01-09T14:04:00.851004",
     "exception": false,
     "start_time": "2021-01-09T14:03:58.311848",
     "status": "completed"
    },
    "tags": []
   },
   "outputs": [],
   "source": [
    "model.load_weights('model.h5')"
   ]
  },
  {
   "cell_type": "code",
   "execution_count": 9,
   "metadata": {
    "execution": {
     "iopub.execute_input": "2021-01-09T14:04:04.809139Z",
     "iopub.status.busy": "2021-01-09T14:04:04.807287Z",
     "iopub.status.idle": "2021-01-09T14:04:04.809764Z",
     "shell.execute_reply": "2021-01-09T14:04:04.810236Z"
    },
    "papermill": {
     "duration": 2.019182,
     "end_time": "2021-01-09T14:04:04.810364",
     "exception": false,
     "start_time": "2021-01-09T14:04:02.791182",
     "status": "completed"
    },
    "tags": []
   },
   "outputs": [],
   "source": [
    "mapping = {k: i for i, k in train_data.class_indices.items()}"
   ]
  },
  {
   "cell_type": "code",
   "execution_count": 10,
   "metadata": {
    "execution": {
     "iopub.execute_input": "2021-01-09T14:04:08.702035Z",
     "iopub.status.busy": "2021-01-09T14:04:08.701494Z",
     "iopub.status.idle": "2021-01-09T14:05:14.904998Z",
     "shell.execute_reply": "2021-01-09T14:05:14.904481Z"
    },
    "papermill": {
     "duration": 68.154325,
     "end_time": "2021-01-09T14:05:14.905098",
     "exception": false,
     "start_time": "2021-01-09T14:04:06.750773",
     "status": "completed"
    },
    "tags": []
   },
   "outputs": [],
   "source": [
    "test_preds = model.predict_classes(test_data)\n",
    "test_preds = [mapping[i] for i in test_preds]\n",
    "sub['emotion'] = test_preds\n",
    "sub.to_csv('preds.csv', index=False)"
   ]
  }
 ],
 "metadata": {
  "kernelspec": {
   "display_name": "Python 3",
   "language": "python",
   "name": "python3"
  },
  "language_info": {
   "codemirror_mode": {
    "name": "ipython",
    "version": 3
   },
   "file_extension": ".py",
   "mimetype": "text/x-python",
   "name": "python",
   "nbconvert_exporter": "python",
   "pygments_lexer": "ipython3",
   "version": "3.7.6"
  },
  "papermill": {
   "duration": 7383.74287,
   "end_time": "2021-01-09T14:05:19.101697",
   "environment_variables": {},
   "exception": null,
   "input_path": "__notebook__.ipynb",
   "output_path": "__notebook__.ipynb",
   "parameters": {},
   "start_time": "2021-01-09T12:02:15.358827",
   "version": "2.1.0"
  }
 },
 "nbformat": 4,
 "nbformat_minor": 4
}
