{
 "cells": [
  {
   "cell_type": "code",
   "execution_count": 1,
   "metadata": {
    "_cell_guid": "b1076dfc-b9ad-4769-8c92-a6c4dae69d19",
    "_uuid": "8f2839f25d086af736a60e9eeb907d3b93b6e0e5",
    "execution": {
     "iopub.execute_input": "2021-01-09T19:29:32.569874Z",
     "iopub.status.busy": "2021-01-09T19:29:32.569152Z",
     "iopub.status.idle": "2021-01-09T19:29:37.340157Z",
     "shell.execute_reply": "2021-01-09T19:29:37.340702Z"
    },
    "papermill": {
     "duration": 4.786409,
     "end_time": "2021-01-09T19:29:37.340868",
     "exception": false,
     "start_time": "2021-01-09T19:29:32.554459",
     "status": "completed"
    },
    "tags": []
   },
   "outputs": [
    {
     "name": "stdout",
     "output_type": "stream",
     "text": [
      "tf version: 2.3.1\n"
     ]
    }
   ],
   "source": [
    "import numpy as np\n",
    "import pandas as pd\n",
    "from sklearn.model_selection import train_test_split\n",
    "import tensorflow as tf\n",
    "import tensorflow.keras.applications.efficientnet as efn\n",
    "import scipy as sp\n",
    "import os\n",
    "from os.path import isfile, join\n",
    "\n",
    "EFNETS = (efn.EfficientNetB0, efn.EfficientNetB1, efn.EfficientNetB2, efn.EfficientNetB3, \n",
    "          efn.EfficientNetB4, efn.EfficientNetB5, efn.EfficientNetB6, efn.EfficientNetB7)\n",
    "    \n",
    "print(f'tf version: {tf.__version__}')"
   ]
  },
  {
   "cell_type": "code",
   "execution_count": 2,
   "metadata": {
    "execution": {
     "iopub.execute_input": "2021-01-09T19:29:37.366426Z",
     "iopub.status.busy": "2021-01-09T19:29:37.365878Z",
     "iopub.status.idle": "2021-01-09T19:29:39.590405Z",
     "shell.execute_reply": "2021-01-09T19:29:39.591549Z"
    },
    "papermill": {
     "duration": 2.242716,
     "end_time": "2021-01-09T19:29:39.591730",
     "exception": false,
     "start_time": "2021-01-09T19:29:37.349014",
     "status": "completed"
    },
    "tags": []
   },
   "outputs": [],
   "source": [
    "N_CLASSES = 9\n",
    "SEED = 17\n",
    "IMAGES_DIR = '/kaggle/input/skillbox-emotions/'\n",
    "TEST_DIR = IMAGES_DIR + '/test_kaggle'\n",
    "\n",
    "train_df = pd.read_csv('/kaggle/input/skillbox-computer-vision-project/train.csv').iloc[:, 1:]\n",
    "sub = pd.read_csv('/kaggle/input/skillbox-computer-vision-project/sample_submission.csv')\n",
    "images_test_filenames =  [f for f in os.listdir(TEST_DIR) if isfile(join(TEST_DIR, f))]\n",
    "\n",
    "train_df, val_df = train_test_split(train_df, test_size=0.1, random_state=SEED)"
   ]
  },
  {
   "cell_type": "code",
   "execution_count": 3,
   "metadata": {
    "execution": {
     "iopub.execute_input": "2021-01-09T19:29:39.613380Z",
     "iopub.status.busy": "2021-01-09T19:29:39.612776Z",
     "iopub.status.idle": "2021-01-09T19:29:39.617026Z",
     "shell.execute_reply": "2021-01-09T19:29:39.616518Z"
    },
    "papermill": {
     "duration": 0.016585,
     "end_time": "2021-01-09T19:29:39.617113",
     "exception": false,
     "start_time": "2021-01-09T19:29:39.600528",
     "status": "completed"
    },
    "tags": []
   },
   "outputs": [],
   "source": [
    "train_data_gen = tf.keras.preprocessing.image.ImageDataGenerator(\n",
    "                                    horizontal_flip=True, rotation_range=15, \n",
    "#                                     brightness_range=[0.75, 1.25], \n",
    "                                    width_shift_range=0.15, height_shift_range=0.15)\n",
    "val_data_gen = tf.keras.preprocessing.image.ImageDataGenerator()\n",
    "test_data_gen = tf.keras.preprocessing.image.ImageDataGenerator()"
   ]
  },
  {
   "cell_type": "code",
   "execution_count": 4,
   "metadata": {
    "execution": {
     "iopub.execute_input": "2021-01-09T19:29:39.638861Z",
     "iopub.status.busy": "2021-01-09T19:29:39.638355Z",
     "iopub.status.idle": "2021-01-09T19:30:08.055272Z",
     "shell.execute_reply": "2021-01-09T19:30:08.054818Z"
    },
    "papermill": {
     "duration": 28.431311,
     "end_time": "2021-01-09T19:30:08.055383",
     "exception": false,
     "start_time": "2021-01-09T19:29:39.624072",
     "status": "completed"
    },
    "tags": []
   },
   "outputs": [
    {
     "name": "stdout",
     "output_type": "stream",
     "text": [
      "Found 45041 validated image filenames belonging to 9 classes.\n",
      "Found 5005 validated image filenames belonging to 9 classes.\n",
      "Found 5000 validated image filenames.\n"
     ]
    }
   ],
   "source": [
    "EFNET_NO = 1\n",
    "BATCH_SIZE = 64\n",
    "IMSIZES = (224, 240, 260, 300, 380, 456, 528, 600)\n",
    "IMAGE_SIZE = IMSIZES[EFNET_NO]\n",
    "\n",
    "train_data = train_data_gen.flow_from_dataframe(\n",
    "              train_df, directory=IMAGES_DIR, x_col='image_path', y_col='emotion', class_mode='sparse',\n",
    "              target_size=(IMAGE_SIZE, IMAGE_SIZE), batch_size=BATCH_SIZE, shuffle=True\n",
    "          )\n",
    "val_data = val_data_gen.flow_from_dataframe(\n",
    "              val_df, directory=IMAGES_DIR, x_col='image_path', y_col='emotion', class_mode='sparse',\n",
    "              target_size=(IMAGE_SIZE, IMAGE_SIZE), batch_size=BATCH_SIZE, shuffle=False\n",
    "          )\n",
    "test_data = test_data_gen.flow_from_dataframe(\n",
    "              sub, directory=TEST_DIR, x_col='image_path', y_col=None, class_mode=None,\n",
    "              target_size=(IMAGE_SIZE, IMAGE_SIZE), batch_size=BATCH_SIZE, shuffle=False\n",
    "          )"
   ]
  },
  {
   "cell_type": "code",
   "execution_count": 5,
   "metadata": {
    "execution": {
     "iopub.execute_input": "2021-01-09T19:30:08.080447Z",
     "iopub.status.busy": "2021-01-09T19:30:08.079920Z",
     "iopub.status.idle": "2021-01-09T19:30:16.548231Z",
     "shell.execute_reply": "2021-01-09T19:30:16.547757Z"
    },
    "papermill": {
     "duration": 8.484708,
     "end_time": "2021-01-09T19:30:16.548341",
     "exception": false,
     "start_time": "2021-01-09T19:30:08.063633",
     "status": "completed"
    },
    "tags": []
   },
   "outputs": [
    {
     "name": "stdout",
     "output_type": "stream",
     "text": [
      "Downloading data from https://storage.googleapis.com/keras-applications/efficientnetb1_notop.h5\n",
      "27025408/27018416 [==============================] - 1s 0us/step\n",
      "Model: \"sequential\"\n",
      "_________________________________________________________________\n",
      "Layer (type)                 Output Shape              Param #   \n",
      "=================================================================\n",
      "efficientnetb1 (Functional)  (None, 8, 8, 1280)        6575239   \n",
      "_________________________________________________________________\n",
      "global_average_pooling2d (Gl (None, 1280)              0         \n",
      "_________________________________________________________________\n",
      "dense (Dense)                (None, 9)                 11529     \n",
      "=================================================================\n",
      "Total params: 6,586,768\n",
      "Trainable params: 6,524,713\n",
      "Non-trainable params: 62,055\n",
      "_________________________________________________________________\n"
     ]
    }
   ],
   "source": [
    "model = tf.keras.Sequential([\n",
    "    EFNETS[EFNET_NO](\n",
    "        input_shape=(IMAGE_SIZE, IMAGE_SIZE, 3),\n",
    "        weights='imagenet',\n",
    "        include_top=False),\n",
    "    tf.keras.layers.GlobalAveragePooling2D(),\n",
    "    tf.keras.layers.Dense(N_CLASSES, activation='softmax')\n",
    "])\n",
    "model.compile(\n",
    "    optimizer=tf.keras.optimizers.Adam(),\n",
    "    loss='sparse_categorical_crossentropy',\n",
    "    metrics='accuracy')\n",
    "model.summary()"
   ]
  },
  {
   "cell_type": "code",
   "execution_count": 6,
   "metadata": {
    "execution": {
     "iopub.execute_input": "2021-01-09T19:30:16.575408Z",
     "iopub.status.busy": "2021-01-09T19:30:16.574293Z",
     "iopub.status.idle": "2021-01-09T19:30:16.577352Z",
     "shell.execute_reply": "2021-01-09T19:30:16.576933Z"
    },
    "papermill": {
     "duration": 0.018351,
     "end_time": "2021-01-09T19:30:16.577439",
     "exception": false,
     "start_time": "2021-01-09T19:30:16.559088",
     "status": "completed"
    },
    "tags": []
   },
   "outputs": [],
   "source": [
    "checkpoint = tf.keras.callbacks.ModelCheckpoint(\n",
    "    'model.h5', save_best_only=True, monitor='val_accuracy', mode='max', verbose=1)\n",
    "lr_reducer = tf.keras.callbacks.ReduceLROnPlateau(\n",
    "    monitor=\"val_accuracy\", patience=3, min_lr=3e-7, mode='max')"
   ]
  },
  {
   "cell_type": "code",
   "execution_count": 7,
   "metadata": {
    "execution": {
     "iopub.execute_input": "2021-01-09T19:30:16.603548Z",
     "iopub.status.busy": "2021-01-09T19:30:16.603038Z",
     "iopub.status.idle": "2021-01-10T00:46:05.435955Z",
     "shell.execute_reply": "2021-01-10T00:46:05.436701Z"
    },
    "papermill": {
     "duration": 18948.849406,
     "end_time": "2021-01-10T00:46:05.436940",
     "exception": false,
     "start_time": "2021-01-09T19:30:16.587534",
     "status": "completed"
    },
    "tags": []
   },
   "outputs": [
    {
     "name": "stdout",
     "output_type": "stream",
     "text": [
      "Epoch 1/17\n",
      "704/704 [==============================] - ETA: 0s - loss: 1.5157 - accuracy: 0.4500\n",
      "Epoch 00001: val_accuracy improved from -inf to 0.47632, saving model to model.h5\n",
      "704/704 [==============================] - 1325s 2s/step - loss: 1.5157 - accuracy: 0.4500 - val_loss: 1.4248 - val_accuracy: 0.4763\n",
      "Epoch 2/17\n",
      "704/704 [==============================] - ETA: 0s - loss: 1.3299 - accuracy: 0.5130\n",
      "Epoch 00002: val_accuracy improved from 0.47632 to 0.49091, saving model to model.h5\n",
      "704/704 [==============================] - 1077s 2s/step - loss: 1.3299 - accuracy: 0.5130 - val_loss: 1.4134 - val_accuracy: 0.4909\n",
      "Epoch 3/17\n",
      "704/704 [==============================] - ETA: 0s - loss: 1.2675 - accuracy: 0.5398\n",
      "Epoch 00003: val_accuracy improved from 0.49091 to 0.52128, saving model to model.h5\n",
      "704/704 [==============================] - 1075s 2s/step - loss: 1.2675 - accuracy: 0.5398 - val_loss: 1.3356 - val_accuracy: 0.5213\n",
      "Epoch 4/17\n",
      "704/704 [==============================] - ETA: 0s - loss: 1.2273 - accuracy: 0.5546\n",
      "Epoch 00004: val_accuracy did not improve from 0.52128\n",
      "704/704 [==============================] - 1077s 2s/step - loss: 1.2273 - accuracy: 0.5546 - val_loss: 1.3504 - val_accuracy: 0.5153\n",
      "Epoch 5/17\n",
      "704/704 [==============================] - ETA: 0s - loss: 1.1852 - accuracy: 0.5672\n",
      "Epoch 00005: val_accuracy improved from 0.52128 to 0.52787, saving model to model.h5\n",
      "704/704 [==============================] - 1087s 2s/step - loss: 1.1852 - accuracy: 0.5672 - val_loss: 1.3181 - val_accuracy: 0.5279\n",
      "Epoch 6/17\n",
      "704/704 [==============================] - ETA: 0s - loss: 1.1505 - accuracy: 0.5789\n",
      "Epoch 00006: val_accuracy did not improve from 0.52787\n",
      "704/704 [==============================] - 1082s 2s/step - loss: 1.1505 - accuracy: 0.5789 - val_loss: 1.3424 - val_accuracy: 0.5221\n",
      "Epoch 7/17\n",
      "704/704 [==============================] - ETA: 0s - loss: 1.1162 - accuracy: 0.5894\n",
      "Epoch 00007: val_accuracy did not improve from 0.52787\n",
      "704/704 [==============================] - 1082s 2s/step - loss: 1.1162 - accuracy: 0.5894 - val_loss: 1.3535 - val_accuracy: 0.5221\n",
      "Epoch 8/17\n",
      "704/704 [==============================] - ETA: 0s - loss: 1.0812 - accuracy: 0.6033\n",
      "Epoch 00008: val_accuracy did not improve from 0.52787\n",
      "704/704 [==============================] - 1092s 2s/step - loss: 1.0812 - accuracy: 0.6033 - val_loss: 1.3344 - val_accuracy: 0.5225\n",
      "Epoch 9/17\n",
      "704/704 [==============================] - ETA: 0s - loss: 0.9112 - accuracy: 0.6657\n",
      "Epoch 00009: val_accuracy improved from 0.52787 to 0.55265, saving model to model.h5\n",
      "704/704 [==============================] - 1098s 2s/step - loss: 0.9112 - accuracy: 0.6657 - val_loss: 1.2901 - val_accuracy: 0.5526\n",
      "Epoch 10/17\n",
      "704/704 [==============================] - ETA: 0s - loss: 0.8429 - accuracy: 0.6885\n",
      "Epoch 00010: val_accuracy did not improve from 0.55265\n",
      "704/704 [==============================] - 1097s 2s/step - loss: 0.8429 - accuracy: 0.6885 - val_loss: 1.3363 - val_accuracy: 0.5510\n",
      "Epoch 11/17\n",
      "704/704 [==============================] - ETA: 0s - loss: 0.7977 - accuracy: 0.7064\n",
      "Epoch 00011: val_accuracy did not improve from 0.55265\n",
      "704/704 [==============================] - 1103s 2s/step - loss: 0.7977 - accuracy: 0.7064 - val_loss: 1.3645 - val_accuracy: 0.5461\n",
      "Epoch 12/17\n",
      "704/704 [==============================] - ETA: 0s - loss: 0.7600 - accuracy: 0.7211\n",
      "Epoch 00012: val_accuracy did not improve from 0.55265\n",
      "704/704 [==============================] - 1103s 2s/step - loss: 0.7600 - accuracy: 0.7211 - val_loss: 1.4161 - val_accuracy: 0.5415\n",
      "Epoch 13/17\n",
      "704/704 [==============================] - ETA: 0s - loss: 0.7105 - accuracy: 0.7397\n",
      "Epoch 00013: val_accuracy did not improve from 0.55265\n",
      "704/704 [==============================] - 1110s 2s/step - loss: 0.7105 - accuracy: 0.7397 - val_loss: 1.4245 - val_accuracy: 0.5449\n",
      "Epoch 14/17\n",
      "704/704 [==============================] - ETA: 0s - loss: 0.7057 - accuracy: 0.7400\n",
      "Epoch 00014: val_accuracy did not improve from 0.55265\n",
      "704/704 [==============================] - 1114s 2s/step - loss: 0.7057 - accuracy: 0.7400 - val_loss: 1.4346 - val_accuracy: 0.5429\n",
      "Epoch 15/17\n",
      "704/704 [==============================] - ETA: 0s - loss: 0.7011 - accuracy: 0.7421\n",
      "Epoch 00015: val_accuracy did not improve from 0.55265\n",
      "704/704 [==============================] - 1117s 2s/step - loss: 0.7011 - accuracy: 0.7421 - val_loss: 1.4438 - val_accuracy: 0.5427\n",
      "Epoch 16/17\n",
      "704/704 [==============================] - ETA: 0s - loss: 0.6966 - accuracy: 0.7450\n",
      "Epoch 00016: val_accuracy did not improve from 0.55265\n",
      "704/704 [==============================] - 1123s 2s/step - loss: 0.6966 - accuracy: 0.7450 - val_loss: 1.4495 - val_accuracy: 0.5431\n",
      "Epoch 17/17\n",
      "704/704 [==============================] - ETA: 0s - loss: 0.6907 - accuracy: 0.7456\n",
      "Epoch 00017: val_accuracy did not improve from 0.55265\n",
      "704/704 [==============================] - 1125s 2s/step - loss: 0.6907 - accuracy: 0.7456 - val_loss: 1.4470 - val_accuracy: 0.5425\n"
     ]
    }
   ],
   "source": [
    "history = model.fit(\n",
    "    train_data, validation_data=val_data, \n",
    "    epochs=17, callbacks=[checkpoint, lr_reducer])"
   ]
  },
  {
   "cell_type": "code",
   "execution_count": 8,
   "metadata": {
    "execution": {
     "iopub.execute_input": "2021-01-10T00:46:13.096070Z",
     "iopub.status.busy": "2021-01-10T00:46:13.085764Z",
     "iopub.status.idle": "2021-01-10T00:46:13.357255Z",
     "shell.execute_reply": "2021-01-10T00:46:13.356264Z"
    },
    "papermill": {
     "duration": 3.774831,
     "end_time": "2021-01-10T00:46:13.357385",
     "exception": false,
     "start_time": "2021-01-10T00:46:09.582554",
     "status": "completed"
    },
    "tags": []
   },
   "outputs": [],
   "source": [
    "model.load_weights('model.h5')"
   ]
  },
  {
   "cell_type": "code",
   "execution_count": 9,
   "metadata": {
    "execution": {
     "iopub.execute_input": "2021-01-10T00:46:20.374597Z",
     "iopub.status.busy": "2021-01-10T00:46:20.373715Z",
     "iopub.status.idle": "2021-01-10T00:46:20.375590Z",
     "shell.execute_reply": "2021-01-10T00:46:20.376024Z"
    },
    "papermill": {
     "duration": 3.37565,
     "end_time": "2021-01-10T00:46:20.376140",
     "exception": false,
     "start_time": "2021-01-10T00:46:17.000490",
     "status": "completed"
    },
    "tags": []
   },
   "outputs": [],
   "source": [
    "mapping = {k: i for i, k in train_data.class_indices.items()}"
   ]
  },
  {
   "cell_type": "code",
   "execution_count": 10,
   "metadata": {
    "execution": {
     "iopub.execute_input": "2021-01-10T00:46:27.451124Z",
     "iopub.status.busy": "2021-01-10T00:46:27.450118Z",
     "iopub.status.idle": "2021-01-10T00:47:39.697154Z",
     "shell.execute_reply": "2021-01-10T00:47:39.696234Z"
    },
    "papermill": {
     "duration": 75.892828,
     "end_time": "2021-01-10T00:47:39.697304",
     "exception": false,
     "start_time": "2021-01-10T00:46:23.804476",
     "status": "completed"
    },
    "tags": []
   },
   "outputs": [],
   "source": [
    "test_preds = model.predict_classes(test_data)\n",
    "test_preds = [mapping[i] for i in test_preds]\n",
    "sub['emotion'] = test_preds\n",
    "sub.to_csv('preds.csv', index=False)"
   ]
  }
 ],
 "metadata": {
  "kernelspec": {
   "display_name": "Python 3",
   "language": "python",
   "name": "python3"
  },
  "language_info": {
   "codemirror_mode": {
    "name": "ipython",
    "version": 3
   },
   "file_extension": ".py",
   "mimetype": "text/x-python",
   "name": "python",
   "nbconvert_exporter": "python",
   "pygments_lexer": "ipython3",
   "version": "3.7.6"
  },
  "papermill": {
   "duration": 19096.202382,
   "end_time": "2021-01-10T00:47:44.836717",
   "environment_variables": {},
   "exception": null,
   "input_path": "__notebook__.ipynb",
   "output_path": "__notebook__.ipynb",
   "parameters": {},
   "start_time": "2021-01-09T19:29:28.634335",
   "version": "2.1.0"
  }
 },
 "nbformat": 4,
 "nbformat_minor": 4
}
