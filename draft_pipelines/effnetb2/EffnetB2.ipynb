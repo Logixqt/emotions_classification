{
 "cells": [
  {
   "cell_type": "code",
   "execution_count": 1,
   "metadata": {
    "_cell_guid": "b1076dfc-b9ad-4769-8c92-a6c4dae69d19",
    "_uuid": "8f2839f25d086af736a60e9eeb907d3b93b6e0e5",
    "execution": {
     "iopub.execute_input": "2021-01-07T10:08:21.226708Z",
     "iopub.status.busy": "2021-01-07T10:08:21.226000Z",
     "iopub.status.idle": "2021-01-07T10:08:26.131167Z",
     "shell.execute_reply": "2021-01-07T10:08:26.130490Z"
    },
    "papermill": {
     "duration": 4.919624,
     "end_time": "2021-01-07T10:08:26.131323",
     "exception": false,
     "start_time": "2021-01-07T10:08:21.211699",
     "status": "completed"
    },
    "tags": []
   },
   "outputs": [
    {
     "name": "stdout",
     "output_type": "stream",
     "text": [
      "tf version: 2.3.1\n"
     ]
    }
   ],
   "source": [
    "import numpy as np\n",
    "import pandas as pd\n",
    "from sklearn.model_selection import train_test_split\n",
    "import tensorflow as tf\n",
    "import tensorflow.keras.applications.efficientnet as efn\n",
    "import scipy as sp\n",
    "import os\n",
    "from os.path import isfile, join\n",
    "\n",
    "EFNETS = (efn.EfficientNetB0, efn.EfficientNetB1, efn.EfficientNetB2, efn.EfficientNetB3, \n",
    "          efn.EfficientNetB4, efn.EfficientNetB5, efn.EfficientNetB6, efn.EfficientNetB7)\n",
    "    \n",
    "print(f'tf version: {tf.__version__}')"
   ]
  },
  {
   "cell_type": "code",
   "execution_count": 2,
   "metadata": {
    "execution": {
     "iopub.execute_input": "2021-01-07T10:08:26.153434Z",
     "iopub.status.busy": "2021-01-07T10:08:26.152929Z",
     "iopub.status.idle": "2021-01-07T10:08:29.764580Z",
     "shell.execute_reply": "2021-01-07T10:08:29.763420Z"
    },
    "papermill": {
     "duration": 3.626379,
     "end_time": "2021-01-07T10:08:29.764703",
     "exception": false,
     "start_time": "2021-01-07T10:08:26.138324",
     "status": "completed"
    },
    "tags": []
   },
   "outputs": [],
   "source": [
    "N_CLASSES = 9\n",
    "SEED = 17\n",
    "IMAGES_DIR = '/kaggle/input/skillbox-emotions/'\n",
    "TEST_DIR = IMAGES_DIR + '/test_kaggle'\n",
    "\n",
    "train_df = pd.read_csv('/kaggle/input/skillbox-computer-vision-project/train.csv').iloc[:, 1:]\n",
    "sub = pd.read_csv('/kaggle/input/skillbox-computer-vision-project/sample_submission.csv')\n",
    "images_test_filenames =  [f for f in os.listdir(TEST_DIR) if isfile(join(TEST_DIR, f))]\n",
    "\n",
    "train_df, val_df = train_test_split(train_df, test_size=0.1, random_state=SEED)\n",
    "test_df = pd.DataFrame(images_test_filenames, columns=['image_path'])"
   ]
  },
  {
   "cell_type": "code",
   "execution_count": 3,
   "metadata": {
    "execution": {
     "iopub.execute_input": "2021-01-07T10:08:29.783266Z",
     "iopub.status.busy": "2021-01-07T10:08:29.782318Z",
     "iopub.status.idle": "2021-01-07T10:08:29.785180Z",
     "shell.execute_reply": "2021-01-07T10:08:29.784699Z"
    },
    "papermill": {
     "duration": 0.014496,
     "end_time": "2021-01-07T10:08:29.785277",
     "exception": false,
     "start_time": "2021-01-07T10:08:29.770781",
     "status": "completed"
    },
    "tags": []
   },
   "outputs": [],
   "source": [
    "train_data_gen = tf.keras.preprocessing.image.ImageDataGenerator(\n",
    "                  rotation_range=20, width_shift_range=0.15,\n",
    "                  height_shift_range=0.15, zoom_range=0.15, horizontal_flip=True\n",
    "                  )\n",
    "val_data_gen = tf.keras.preprocessing.image.ImageDataGenerator()\n",
    "test_data_gen = tf.keras.preprocessing.image.ImageDataGenerator()"
   ]
  },
  {
   "cell_type": "code",
   "execution_count": 4,
   "metadata": {
    "execution": {
     "iopub.execute_input": "2021-01-07T10:08:29.805517Z",
     "iopub.status.busy": "2021-01-07T10:08:29.804508Z",
     "iopub.status.idle": "2021-01-07T10:09:22.985773Z",
     "shell.execute_reply": "2021-01-07T10:09:22.986259Z"
    },
    "papermill": {
     "duration": 53.195372,
     "end_time": "2021-01-07T10:09:22.986439",
     "exception": false,
     "start_time": "2021-01-07T10:08:29.791067",
     "status": "completed"
    },
    "tags": []
   },
   "outputs": [
    {
     "name": "stdout",
     "output_type": "stream",
     "text": [
      "Found 45041 validated image filenames belonging to 9 classes.\n",
      "Found 5005 validated image filenames belonging to 9 classes.\n",
      "Found 5000 validated image filenames.\n"
     ]
    }
   ],
   "source": [
    "EFNET_NO = 2\n",
    "BATCH_SIZE = 64\n",
    "IMSIZES = (224, 240, 260, 300, 380, 456, 528, 600)\n",
    "IMAGE_SIZE = IMSIZES[EFNET_NO]\n",
    "\n",
    "train_data = train_data_gen.flow_from_dataframe(\n",
    "              train_df, directory=IMAGES_DIR, x_col='image_path', y_col='emotion',\n",
    "              target_size=(IMAGE_SIZE, IMAGE_SIZE), class_mode='sparse', batch_size=BATCH_SIZE, seed=SEED\n",
    "          )\n",
    "val_data = val_data_gen.flow_from_dataframe(\n",
    "              val_df, directory=IMAGES_DIR, x_col='image_path', y_col='emotion', \n",
    "              target_size=(IMAGE_SIZE, IMAGE_SIZE), class_mode='sparse', batch_size=BATCH_SIZE, shuffle=False\n",
    "          )\n",
    "test_data = test_data_gen.flow_from_dataframe(\n",
    "              test_df, directory=TEST_DIR, x_col='image_path', y_col=None,  \n",
    "              target_size=(IMAGE_SIZE, IMAGE_SIZE), class_mode=None, batch_size=BATCH_SIZE, shuffle=False\n",
    "          )"
   ]
  },
  {
   "cell_type": "code",
   "execution_count": 5,
   "metadata": {
    "execution": {
     "iopub.execute_input": "2021-01-07T10:09:23.009767Z",
     "iopub.status.busy": "2021-01-07T10:09:23.009241Z",
     "iopub.status.idle": "2021-01-07T10:09:31.940493Z",
     "shell.execute_reply": "2021-01-07T10:09:31.940941Z"
    },
    "papermill": {
     "duration": 8.947558,
     "end_time": "2021-01-07T10:09:31.941080",
     "exception": false,
     "start_time": "2021-01-07T10:09:22.993522",
     "status": "completed"
    },
    "tags": []
   },
   "outputs": [
    {
     "name": "stdout",
     "output_type": "stream",
     "text": [
      "Downloading data from https://storage.googleapis.com/keras-applications/efficientnetb2_notop.h5\n",
      "31793152/31790344 [==============================] - 1s 0us/step\n",
      "Model: \"sequential\"\n",
      "_________________________________________________________________\n",
      "Layer (type)                 Output Shape              Param #   \n",
      "=================================================================\n",
      "efficientnetb2 (Functional)  (None, 9, 9, 1408)        7768569   \n",
      "_________________________________________________________________\n",
      "global_average_pooling2d (Gl (None, 1408)              0         \n",
      "_________________________________________________________________\n",
      "dense (Dense)                (None, 9)                 12681     \n",
      "=================================================================\n",
      "Total params: 7,781,250\n",
      "Trainable params: 7,713,675\n",
      "Non-trainable params: 67,575\n",
      "_________________________________________________________________\n"
     ]
    }
   ],
   "source": [
    "model = tf.keras.Sequential([\n",
    "#         tf.keras.models.load_model(model_path),\n",
    "    EFNETS[EFNET_NO](\n",
    "        input_shape=(IMAGE_SIZE, IMAGE_SIZE, 3),\n",
    "        weights='imagenet',\n",
    "        include_top=False),\n",
    "    tf.keras.layers.GlobalAveragePooling2D(),\n",
    "    tf.keras.layers.Dense(N_CLASSES, activation='softmax')\n",
    "])\n",
    "model.compile(\n",
    "    optimizer='adam',\n",
    "    loss='sparse_categorical_crossentropy',\n",
    "    metrics='accuracy')\n",
    "model.summary()"
   ]
  },
  {
   "cell_type": "code",
   "execution_count": 6,
   "metadata": {
    "execution": {
     "iopub.execute_input": "2021-01-07T10:09:31.965397Z",
     "iopub.status.busy": "2021-01-07T10:09:31.964612Z",
     "iopub.status.idle": "2021-01-07T10:09:31.969004Z",
     "shell.execute_reply": "2021-01-07T10:09:31.968477Z"
    },
    "papermill": {
     "duration": 0.018086,
     "end_time": "2021-01-07T10:09:31.969102",
     "exception": false,
     "start_time": "2021-01-07T10:09:31.951016",
     "status": "completed"
    },
    "tags": []
   },
   "outputs": [],
   "source": [
    "checkpoint = tf.keras.callbacks.ModelCheckpoint(\n",
    "    'model.h5', save_best_only=True, monitor='val_accuracy', mode='max', verbose=1)"
   ]
  },
  {
   "cell_type": "code",
   "execution_count": 7,
   "metadata": {
    "execution": {
     "iopub.execute_input": "2021-01-07T10:09:31.995565Z",
     "iopub.status.busy": "2021-01-07T10:09:31.995066Z",
     "iopub.status.idle": "2021-01-07T17:42:15.193250Z",
     "shell.execute_reply": "2021-01-07T17:42:15.192660Z"
    },
    "papermill": {
     "duration": 27163.213302,
     "end_time": "2021-01-07T17:42:15.193377",
     "exception": false,
     "start_time": "2021-01-07T10:09:31.980075",
     "status": "completed"
    },
    "tags": []
   },
   "outputs": [
    {
     "name": "stdout",
     "output_type": "stream",
     "text": [
      "Epoch 1/20\n",
      "704/704 [==============================] - ETA: 0s - loss: 1.5266 - accuracy: 0.4451\n",
      "Epoch 00001: val_accuracy improved from -inf to 0.46633, saving model to model.h5\n",
      "704/704 [==============================] - 1421s 2s/step - loss: 1.5266 - accuracy: 0.4451 - val_loss: 1.4921 - val_accuracy: 0.4663\n",
      "Epoch 2/20\n",
      "704/704 [==============================] - ETA: 0s - loss: 1.3402 - accuracy: 0.5131\n",
      "Epoch 00002: val_accuracy improved from 0.46633 to 0.52068, saving model to model.h5\n",
      "704/704 [==============================] - 1265s 2s/step - loss: 1.3402 - accuracy: 0.5131 - val_loss: 1.3104 - val_accuracy: 0.5207\n",
      "Epoch 3/20\n",
      "704/704 [==============================] - ETA: 0s - loss: 1.2772 - accuracy: 0.5336\n",
      "Epoch 00003: val_accuracy improved from 0.52068 to 0.52947, saving model to model.h5\n",
      "704/704 [==============================] - 1312s 2s/step - loss: 1.2772 - accuracy: 0.5336 - val_loss: 1.2977 - val_accuracy: 0.5295\n",
      "Epoch 4/20\n",
      "704/704 [==============================] - ETA: 0s - loss: 1.2374 - accuracy: 0.5492\n",
      "Epoch 00004: val_accuracy improved from 0.52947 to 0.52987, saving model to model.h5\n",
      "704/704 [==============================] - 1309s 2s/step - loss: 1.2374 - accuracy: 0.5492 - val_loss: 1.3227 - val_accuracy: 0.5299\n",
      "Epoch 5/20\n",
      "704/704 [==============================] - ETA: 0s - loss: 1.2017 - accuracy: 0.5628\n",
      "Epoch 00005: val_accuracy did not improve from 0.52987\n",
      "704/704 [==============================] - 1326s 2s/step - loss: 1.2017 - accuracy: 0.5628 - val_loss: 1.3228 - val_accuracy: 0.5297\n",
      "Epoch 6/20\n",
      "704/704 [==============================] - ETA: 0s - loss: 1.1635 - accuracy: 0.5757\n",
      "Epoch 00006: val_accuracy improved from 0.52987 to 0.53566, saving model to model.h5\n",
      "704/704 [==============================] - 1338s 2s/step - loss: 1.1635 - accuracy: 0.5757 - val_loss: 1.3070 - val_accuracy: 0.5357\n",
      "Epoch 7/20\n",
      "704/704 [==============================] - ETA: 0s - loss: 1.1343 - accuracy: 0.5841\n",
      "Epoch 00007: val_accuracy improved from 0.53566 to 0.54166, saving model to model.h5\n",
      "704/704 [==============================] - 1311s 2s/step - loss: 1.1343 - accuracy: 0.5841 - val_loss: 1.2814 - val_accuracy: 0.5417\n",
      "Epoch 8/20\n",
      "704/704 [==============================] - ETA: 0s - loss: 1.1019 - accuracy: 0.5989\n",
      "Epoch 00008: val_accuracy did not improve from 0.54166\n",
      "704/704 [==============================] - 1346s 2s/step - loss: 1.1019 - accuracy: 0.5989 - val_loss: 1.3418 - val_accuracy: 0.5337\n",
      "Epoch 9/20\n",
      "704/704 [==============================] - ETA: 0s - loss: 1.0686 - accuracy: 0.6090\n",
      "Epoch 00009: val_accuracy did not improve from 0.54166\n",
      "704/704 [==============================] - 1340s 2s/step - loss: 1.0686 - accuracy: 0.6090 - val_loss: 1.2886 - val_accuracy: 0.5297\n",
      "Epoch 10/20\n",
      "704/704 [==============================] - ETA: 0s - loss: 1.0344 - accuracy: 0.6195\n",
      "Epoch 00010: val_accuracy did not improve from 0.54166\n",
      "704/704 [==============================] - 1351s 2s/step - loss: 1.0344 - accuracy: 0.6195 - val_loss: 1.3452 - val_accuracy: 0.5373\n",
      "Epoch 11/20\n",
      "704/704 [==============================] - ETA: 0s - loss: 0.9983 - accuracy: 0.6348\n",
      "Epoch 00011: val_accuracy did not improve from 0.54166\n",
      "704/704 [==============================] - 1379s 2s/step - loss: 0.9983 - accuracy: 0.6348 - val_loss: 1.4035 - val_accuracy: 0.5101\n",
      "Epoch 12/20\n",
      "704/704 [==============================] - ETA: 0s - loss: 0.9568 - accuracy: 0.6490\n",
      "Epoch 00012: val_accuracy did not improve from 0.54166\n",
      "704/704 [==============================] - 1390s 2s/step - loss: 0.9568 - accuracy: 0.6490 - val_loss: 1.3854 - val_accuracy: 0.5313\n",
      "Epoch 13/20\n",
      "704/704 [==============================] - ETA: 0s - loss: 0.9245 - accuracy: 0.6607\n",
      "Epoch 00013: val_accuracy did not improve from 0.54166\n",
      "704/704 [==============================] - 1391s 2s/step - loss: 0.9245 - accuracy: 0.6607 - val_loss: 1.3844 - val_accuracy: 0.5355\n",
      "Epoch 14/20\n",
      "704/704 [==============================] - ETA: 0s - loss: 0.8805 - accuracy: 0.6754\n",
      "Epoch 00014: val_accuracy did not improve from 0.54166\n",
      "704/704 [==============================] - 1396s 2s/step - loss: 0.8805 - accuracy: 0.6754 - val_loss: 1.4909 - val_accuracy: 0.5197\n",
      "Epoch 15/20\n",
      "704/704 [==============================] - ETA: 0s - loss: 0.8428 - accuracy: 0.6892\n",
      "Epoch 00015: val_accuracy did not improve from 0.54166\n",
      "704/704 [==============================] - 1373s 2s/step - loss: 0.8428 - accuracy: 0.6892 - val_loss: 1.5171 - val_accuracy: 0.5153\n",
      "Epoch 16/20\n",
      "704/704 [==============================] - ETA: 0s - loss: 0.8013 - accuracy: 0.7031\n",
      "Epoch 00016: val_accuracy did not improve from 0.54166\n",
      "704/704 [==============================] - 1322s 2s/step - loss: 0.8013 - accuracy: 0.7031 - val_loss: 1.5452 - val_accuracy: 0.5209\n",
      "Epoch 17/20\n",
      "704/704 [==============================] - ETA: 0s - loss: 0.7596 - accuracy: 0.7215\n",
      "Epoch 00017: val_accuracy did not improve from 0.54166\n",
      "704/704 [==============================] - 1419s 2s/step - loss: 0.7596 - accuracy: 0.7215 - val_loss: 1.6382 - val_accuracy: 0.5151\n",
      "Epoch 18/20\n",
      "704/704 [==============================] - ETA: 0s - loss: 0.7234 - accuracy: 0.7336\n",
      "Epoch 00018: val_accuracy did not improve from 0.54166\n",
      "704/704 [==============================] - 1369s 2s/step - loss: 0.7234 - accuracy: 0.7336 - val_loss: 1.6393 - val_accuracy: 0.5285\n",
      "Epoch 19/20\n",
      "704/704 [==============================] - ETA: 0s - loss: 0.6854 - accuracy: 0.7456\n",
      "Epoch 00019: val_accuracy did not improve from 0.54166\n",
      "704/704 [==============================] - 1387s 2s/step - loss: 0.6854 - accuracy: 0.7456 - val_loss: 1.6459 - val_accuracy: 0.5171\n",
      "Epoch 20/20\n",
      "704/704 [==============================] - ETA: 0s - loss: 0.6476 - accuracy: 0.7611\n",
      "Epoch 00020: val_accuracy did not improve from 0.54166\n",
      "704/704 [==============================] - 1351s 2s/step - loss: 0.6476 - accuracy: 0.7611 - val_loss: 1.7435 - val_accuracy: 0.5233\n"
     ]
    }
   ],
   "source": [
    "history = model.fit(\n",
    "    train_data, validation_data=val_data, \n",
    "    epochs=20, callbacks=[checkpoint])"
   ]
  },
  {
   "cell_type": "code",
   "execution_count": null,
   "metadata": {
    "papermill": {
     "duration": 3.886378,
     "end_time": "2021-01-07T17:42:23.007602",
     "exception": false,
     "start_time": "2021-01-07T17:42:19.121224",
     "status": "completed"
    },
    "tags": []
   },
   "outputs": [],
   "source": []
  }
 ],
 "metadata": {
  "kernelspec": {
   "display_name": "Python 3",
   "language": "python",
   "name": "python3"
  },
  "language_info": {
   "codemirror_mode": {
    "name": "ipython",
    "version": 3
   },
   "file_extension": ".py",
   "mimetype": "text/x-python",
   "name": "python",
   "nbconvert_exporter": "python",
   "pygments_lexer": "ipython3",
   "version": "3.7.6"
  },
  "papermill": {
   "duration": 27251.467046,
   "end_time": "2021-01-07T17:42:28.748210",
   "environment_variables": {},
   "exception": null,
   "input_path": "__notebook__.ipynb",
   "output_path": "__notebook__.ipynb",
   "parameters": {},
   "start_time": "2021-01-07T10:08:17.281164",
   "version": "2.1.0"
  }
 },
 "nbformat": 4,
 "nbformat_minor": 4
}
