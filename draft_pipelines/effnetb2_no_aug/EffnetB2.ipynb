{
 "cells": [
  {
   "cell_type": "code",
   "execution_count": 1,
   "metadata": {
    "_cell_guid": "b1076dfc-b9ad-4769-8c92-a6c4dae69d19",
    "_uuid": "8f2839f25d086af736a60e9eeb907d3b93b6e0e5",
    "execution": {
     "iopub.execute_input": "2021-01-09T15:34:05.263479Z",
     "iopub.status.busy": "2021-01-09T15:34:05.262805Z",
     "iopub.status.idle": "2021-01-09T15:34:10.078669Z",
     "shell.execute_reply": "2021-01-09T15:34:10.079128Z"
    },
    "papermill": {
     "duration": 4.830495,
     "end_time": "2021-01-09T15:34:10.079285",
     "exception": false,
     "start_time": "2021-01-09T15:34:05.248790",
     "status": "completed"
    },
    "tags": []
   },
   "outputs": [
    {
     "name": "stdout",
     "output_type": "stream",
     "text": [
      "tf version: 2.3.1\n"
     ]
    }
   ],
   "source": [
    "import numpy as np\n",
    "import pandas as pd\n",
    "from sklearn.model_selection import train_test_split\n",
    "import tensorflow as tf\n",
    "import tensorflow.keras.applications.efficientnet as efn\n",
    "import scipy as sp\n",
    "import os\n",
    "from os.path import isfile, join\n",
    "\n",
    "EFNETS = (efn.EfficientNetB0, efn.EfficientNetB1, efn.EfficientNetB2, efn.EfficientNetB3, \n",
    "          efn.EfficientNetB4, efn.EfficientNetB5, efn.EfficientNetB6, efn.EfficientNetB7)\n",
    "    \n",
    "print(f'tf version: {tf.__version__}')"
   ]
  },
  {
   "cell_type": "code",
   "execution_count": 2,
   "metadata": {
    "execution": {
     "iopub.execute_input": "2021-01-09T15:34:10.102744Z",
     "iopub.status.busy": "2021-01-09T15:34:10.102218Z",
     "iopub.status.idle": "2021-01-09T15:34:12.743485Z",
     "shell.execute_reply": "2021-01-09T15:34:12.744586Z"
    },
    "papermill": {
     "duration": 2.657809,
     "end_time": "2021-01-09T15:34:12.744790",
     "exception": false,
     "start_time": "2021-01-09T15:34:10.086981",
     "status": "completed"
    },
    "tags": []
   },
   "outputs": [],
   "source": [
    "N_CLASSES = 9\n",
    "SEED = 17\n",
    "IMAGES_DIR = '/kaggle/input/skillbox-emotions/'\n",
    "TEST_DIR = IMAGES_DIR + '/test_kaggle'\n",
    "\n",
    "train_df = pd.read_csv('/kaggle/input/skillbox-computer-vision-project/train.csv').iloc[:, 1:]\n",
    "sub = pd.read_csv('/kaggle/input/skillbox-computer-vision-project/sample_submission.csv')\n",
    "images_test_filenames =  [f for f in os.listdir(TEST_DIR) if isfile(join(TEST_DIR, f))]\n",
    "\n",
    "train_df, val_df = train_test_split(train_df, test_size=0.1, random_state=SEED)"
   ]
  },
  {
   "cell_type": "code",
   "execution_count": 3,
   "metadata": {
    "execution": {
     "iopub.execute_input": "2021-01-09T15:34:12.775117Z",
     "iopub.status.busy": "2021-01-09T15:34:12.774291Z",
     "iopub.status.idle": "2021-01-09T15:34:12.777887Z",
     "shell.execute_reply": "2021-01-09T15:34:12.778469Z"
    },
    "papermill": {
     "duration": 0.021883,
     "end_time": "2021-01-09T15:34:12.778633",
     "exception": false,
     "start_time": "2021-01-09T15:34:12.756750",
     "status": "completed"
    },
    "tags": []
   },
   "outputs": [],
   "source": [
    "train_data_gen = tf.keras.preprocessing.image.ImageDataGenerator()\n",
    "val_data_gen = tf.keras.preprocessing.image.ImageDataGenerator()\n",
    "test_data_gen = tf.keras.preprocessing.image.ImageDataGenerator()"
   ]
  },
  {
   "cell_type": "code",
   "execution_count": 4,
   "metadata": {
    "execution": {
     "iopub.execute_input": "2021-01-09T15:34:12.817901Z",
     "iopub.status.busy": "2021-01-09T15:34:12.817133Z",
     "iopub.status.idle": "2021-01-09T15:34:45.951023Z",
     "shell.execute_reply": "2021-01-09T15:34:45.951454Z"
    },
    "papermill": {
     "duration": 33.162066,
     "end_time": "2021-01-09T15:34:45.951665",
     "exception": false,
     "start_time": "2021-01-09T15:34:12.789599",
     "status": "completed"
    },
    "tags": []
   },
   "outputs": [
    {
     "name": "stdout",
     "output_type": "stream",
     "text": [
      "Found 45041 validated image filenames belonging to 9 classes.\n",
      "Found 5005 validated image filenames belonging to 9 classes.\n",
      "Found 5000 validated image filenames.\n"
     ]
    }
   ],
   "source": [
    "EFNET_NO = 2\n",
    "BATCH_SIZE = 64\n",
    "IMSIZES = (224, 240, 260, 300, 380, 456, 528, 600)\n",
    "IMAGE_SIZE = IMSIZES[EFNET_NO]\n",
    "\n",
    "train_data = train_data_gen.flow_from_dataframe(\n",
    "              train_df, directory=IMAGES_DIR, x_col='image_path', y_col='emotion',\n",
    "              target_size=(IMAGE_SIZE, IMAGE_SIZE), class_mode='sparse', batch_size=BATCH_SIZE, shuffle=True\n",
    "          )\n",
    "val_data = val_data_gen.flow_from_dataframe(\n",
    "              val_df, directory=IMAGES_DIR, x_col='image_path', y_col='emotion', \n",
    "              target_size=(IMAGE_SIZE, IMAGE_SIZE), class_mode='sparse', batch_size=BATCH_SIZE, shuffle=False\n",
    "          )\n",
    "test_data = test_data_gen.flow_from_dataframe(\n",
    "              sub, directory=TEST_DIR, x_col='image_path', y_col=None,  \n",
    "              target_size=(IMAGE_SIZE, IMAGE_SIZE), class_mode=None, batch_size=BATCH_SIZE, shuffle=False\n",
    "          )"
   ]
  },
  {
   "cell_type": "code",
   "execution_count": 5,
   "metadata": {
    "execution": {
     "iopub.execute_input": "2021-01-09T15:34:45.977814Z",
     "iopub.status.busy": "2021-01-09T15:34:45.977306Z",
     "iopub.status.idle": "2021-01-09T15:34:54.253715Z",
     "shell.execute_reply": "2021-01-09T15:34:54.253251Z"
    },
    "papermill": {
     "duration": 8.293906,
     "end_time": "2021-01-09T15:34:54.253821",
     "exception": false,
     "start_time": "2021-01-09T15:34:45.959915",
     "status": "completed"
    },
    "tags": []
   },
   "outputs": [
    {
     "name": "stdout",
     "output_type": "stream",
     "text": [
      "Downloading data from https://storage.googleapis.com/keras-applications/efficientnetb2_notop.h5\n",
      "31793152/31790344 [==============================] - 1s 0us/step\n",
      "Model: \"sequential\"\n",
      "_________________________________________________________________\n",
      "Layer (type)                 Output Shape              Param #   \n",
      "=================================================================\n",
      "efficientnetb2 (Functional)  (None, 9, 9, 1408)        7768569   \n",
      "_________________________________________________________________\n",
      "global_average_pooling2d (Gl (None, 1408)              0         \n",
      "_________________________________________________________________\n",
      "dense (Dense)                (None, 9)                 12681     \n",
      "=================================================================\n",
      "Total params: 7,781,250\n",
      "Trainable params: 7,713,675\n",
      "Non-trainable params: 67,575\n",
      "_________________________________________________________________\n"
     ]
    }
   ],
   "source": [
    "model = tf.keras.Sequential([\n",
    "    EFNETS[EFNET_NO](\n",
    "        input_shape=(IMAGE_SIZE, IMAGE_SIZE, 3),\n",
    "        weights='imagenet',\n",
    "        include_top=False),\n",
    "    tf.keras.layers.GlobalAveragePooling2D(),\n",
    "    tf.keras.layers.Dense(N_CLASSES, activation='softmax')\n",
    "])\n",
    "model.compile(\n",
    "    optimizer='adam',\n",
    "    loss='sparse_categorical_crossentropy',\n",
    "    metrics='accuracy')\n",
    "model.summary()"
   ]
  },
  {
   "cell_type": "code",
   "execution_count": 6,
   "metadata": {
    "execution": {
     "iopub.execute_input": "2021-01-09T15:34:54.279163Z",
     "iopub.status.busy": "2021-01-09T15:34:54.277851Z",
     "iopub.status.idle": "2021-01-09T15:34:54.280317Z",
     "shell.execute_reply": "2021-01-09T15:34:54.280812Z"
    },
    "papermill": {
     "duration": 0.01696,
     "end_time": "2021-01-09T15:34:54.280909",
     "exception": false,
     "start_time": "2021-01-09T15:34:54.263949",
     "status": "completed"
    },
    "tags": []
   },
   "outputs": [],
   "source": [
    "checkpoint = tf.keras.callbacks.ModelCheckpoint(\n",
    "    'model.h5', save_best_only=True, monitor='val_accuracy', mode='max', verbose=1)"
   ]
  },
  {
   "cell_type": "code",
   "execution_count": 7,
   "metadata": {
    "execution": {
     "iopub.execute_input": "2021-01-09T15:34:54.306438Z",
     "iopub.status.busy": "2021-01-09T15:34:54.305950Z",
     "iopub.status.idle": "2021-01-09T17:34:05.813025Z",
     "shell.execute_reply": "2021-01-09T17:34:05.815428Z"
    },
    "papermill": {
     "duration": 7151.524688,
     "end_time": "2021-01-09T17:34:05.815640",
     "exception": false,
     "start_time": "2021-01-09T15:34:54.290952",
     "status": "completed"
    },
    "tags": []
   },
   "outputs": [
    {
     "name": "stdout",
     "output_type": "stream",
     "text": [
      "Epoch 1/10\n",
      "704/704 [==============================] - ETA: 0s - loss: 1.4848 - accuracy: 0.4597\n",
      "Epoch 00001: val_accuracy improved from -inf to 0.48292, saving model to model.h5\n",
      "704/704 [==============================] - 814s 1s/step - loss: 1.4848 - accuracy: 0.4597 - val_loss: 1.3961 - val_accuracy: 0.4829\n",
      "Epoch 2/10\n",
      "704/704 [==============================] - ETA: 0s - loss: 1.2627 - accuracy: 0.5416\n",
      "Epoch 00002: val_accuracy improved from 0.48292 to 0.51828, saving model to model.h5\n",
      "704/704 [==============================] - 696s 989ms/step - loss: 1.2627 - accuracy: 0.5416 - val_loss: 1.3309 - val_accuracy: 0.5183\n",
      "Epoch 3/10\n",
      "704/704 [==============================] - ETA: 0s - loss: 1.1511 - accuracy: 0.5802\n",
      "Epoch 00003: val_accuracy improved from 0.51828 to 0.51988, saving model to model.h5\n",
      "704/704 [==============================] - 698s 991ms/step - loss: 1.1511 - accuracy: 0.5802 - val_loss: 1.3577 - val_accuracy: 0.5199\n",
      "Epoch 4/10\n",
      "704/704 [==============================] - ETA: 0s - loss: 1.0374 - accuracy: 0.6241\n",
      "Epoch 00004: val_accuracy did not improve from 0.51988\n",
      "704/704 [==============================] - 698s 992ms/step - loss: 1.0374 - accuracy: 0.6241 - val_loss: 1.3853 - val_accuracy: 0.5133\n",
      "Epoch 5/10\n",
      "704/704 [==============================] - ETA: 0s - loss: 0.9098 - accuracy: 0.6718\n",
      "Epoch 00005: val_accuracy did not improve from 0.51988\n",
      "704/704 [==============================] - 700s 994ms/step - loss: 0.9098 - accuracy: 0.6718 - val_loss: 1.4672 - val_accuracy: 0.5139\n",
      "Epoch 6/10\n",
      "704/704 [==============================] - ETA: 0s - loss: 0.7696 - accuracy: 0.7222\n",
      "Epoch 00006: val_accuracy did not improve from 0.51988\n",
      "704/704 [==============================] - 700s 994ms/step - loss: 0.7696 - accuracy: 0.7222 - val_loss: 1.6944 - val_accuracy: 0.5053\n",
      "Epoch 7/10\n",
      "704/704 [==============================] - ETA: 0s - loss: 0.6337 - accuracy: 0.7728\n",
      "Epoch 00007: val_accuracy did not improve from 0.51988\n",
      "704/704 [==============================] - 702s 997ms/step - loss: 0.6337 - accuracy: 0.7728 - val_loss: 1.7437 - val_accuracy: 0.4799\n",
      "Epoch 8/10\n",
      "704/704 [==============================] - ETA: 0s - loss: 0.5076 - accuracy: 0.8195\n",
      "Epoch 00008: val_accuracy did not improve from 0.51988\n",
      "704/704 [==============================] - 702s 998ms/step - loss: 0.5076 - accuracy: 0.8195 - val_loss: 1.9127 - val_accuracy: 0.4909\n",
      "Epoch 9/10\n",
      "704/704 [==============================] - ETA: 0s - loss: 0.4156 - accuracy: 0.8552\n",
      "Epoch 00009: val_accuracy did not improve from 0.51988\n",
      "704/704 [==============================] - 704s 1s/step - loss: 0.4156 - accuracy: 0.8552 - val_loss: 2.1098 - val_accuracy: 0.4923\n",
      "Epoch 10/10\n",
      "704/704 [==============================] - ETA: 0s - loss: 0.3415 - accuracy: 0.8808\n",
      "Epoch 00010: val_accuracy did not improve from 0.51988\n",
      "704/704 [==============================] - 708s 1s/step - loss: 0.3415 - accuracy: 0.8808 - val_loss: 2.1301 - val_accuracy: 0.4835\n"
     ]
    }
   ],
   "source": [
    "history = model.fit(\n",
    "    train_data, validation_data=val_data, \n",
    "    epochs=10, callbacks=[checkpoint])"
   ]
  },
  {
   "cell_type": "code",
   "execution_count": 8,
   "metadata": {
    "execution": {
     "iopub.execute_input": "2021-01-09T17:34:10.402642Z",
     "iopub.status.busy": "2021-01-09T17:34:10.377078Z",
     "iopub.status.idle": "2021-01-09T17:34:10.629328Z",
     "shell.execute_reply": "2021-01-09T17:34:10.627947Z"
    },
    "papermill": {
     "duration": 2.726095,
     "end_time": "2021-01-09T17:34:10.629434",
     "exception": false,
     "start_time": "2021-01-09T17:34:07.903339",
     "status": "completed"
    },
    "tags": []
   },
   "outputs": [],
   "source": [
    "model.load_weights('model.h5')"
   ]
  },
  {
   "cell_type": "code",
   "execution_count": 9,
   "metadata": {
    "execution": {
     "iopub.execute_input": "2021-01-09T17:34:14.571673Z",
     "iopub.status.busy": "2021-01-09T17:34:14.570787Z",
     "iopub.status.idle": "2021-01-09T17:34:14.572710Z",
     "shell.execute_reply": "2021-01-09T17:34:14.573125Z"
    },
    "papermill": {
     "duration": 1.993832,
     "end_time": "2021-01-09T17:34:14.573235",
     "exception": false,
     "start_time": "2021-01-09T17:34:12.579403",
     "status": "completed"
    },
    "tags": []
   },
   "outputs": [],
   "source": [
    "mapping = {k: i for i, k in train_data.class_indices.items()}"
   ]
  },
  {
   "cell_type": "code",
   "execution_count": 10,
   "metadata": {
    "execution": {
     "iopub.execute_input": "2021-01-09T17:34:18.756333Z",
     "iopub.status.busy": "2021-01-09T17:34:18.755795Z",
     "iopub.status.idle": "2021-01-09T17:35:26.716598Z",
     "shell.execute_reply": "2021-01-09T17:35:26.715559Z"
    },
    "papermill": {
     "duration": 70.107036,
     "end_time": "2021-01-09T17:35:26.716741",
     "exception": false,
     "start_time": "2021-01-09T17:34:16.609705",
     "status": "completed"
    },
    "tags": []
   },
   "outputs": [],
   "source": [
    "test_preds = model.predict_classes(test_data)\n",
    "test_preds = [mapping[i] for i in test_preds]\n",
    "sub['emotion'] = test_preds\n",
    "sub.to_csv('preds.csv', index=False)"
   ]
  }
 ],
 "metadata": {
  "kernelspec": {
   "display_name": "Python 3",
   "language": "python",
   "name": "python3"
  },
  "language_info": {
   "codemirror_mode": {
    "name": "ipython",
    "version": 3
   },
   "file_extension": ".py",
   "mimetype": "text/x-python",
   "name": "python",
   "nbconvert_exporter": "python",
   "pygments_lexer": "ipython3",
   "version": "3.7.6"
  },
  "papermill": {
   "duration": 7288.538618,
   "end_time": "2021-01-09T17:35:29.735140",
   "environment_variables": {},
   "exception": null,
   "input_path": "__notebook__.ipynb",
   "output_path": "__notebook__.ipynb",
   "parameters": {},
   "start_time": "2021-01-09T15:34:01.196522",
   "version": "2.1.0"
  }
 },
 "nbformat": 4,
 "nbformat_minor": 4
}
