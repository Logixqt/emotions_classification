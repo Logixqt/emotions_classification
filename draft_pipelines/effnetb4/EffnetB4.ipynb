{
 "cells": [
  {
   "cell_type": "code",
   "execution_count": 1,
   "metadata": {
    "_cell_guid": "b1076dfc-b9ad-4769-8c92-a6c4dae69d19",
    "_uuid": "8f2839f25d086af736a60e9eeb907d3b93b6e0e5",
    "execution": {
     "iopub.execute_input": "2021-01-08T21:45:17.707105Z",
     "iopub.status.busy": "2021-01-08T21:45:17.706388Z",
     "iopub.status.idle": "2021-01-08T21:45:23.709990Z",
     "shell.execute_reply": "2021-01-08T21:45:23.710596Z"
    },
    "papermill": {
     "duration": 6.02215,
     "end_time": "2021-01-08T21:45:23.710794",
     "exception": false,
     "start_time": "2021-01-08T21:45:17.688644",
     "status": "completed"
    },
    "tags": []
   },
   "outputs": [
    {
     "name": "stdout",
     "output_type": "stream",
     "text": [
      "tf version: 2.3.1\n"
     ]
    }
   ],
   "source": [
    "import numpy as np\n",
    "import pandas as pd\n",
    "from sklearn.model_selection import train_test_split\n",
    "import tensorflow as tf\n",
    "import tensorflow.keras.applications.efficientnet as efn\n",
    "import scipy as sp\n",
    "import os\n",
    "from os.path import isfile, join\n",
    "\n",
    "EFNETS = (efn.EfficientNetB0, efn.EfficientNetB1, efn.EfficientNetB2, efn.EfficientNetB3, \n",
    "          efn.EfficientNetB4, efn.EfficientNetB5, efn.EfficientNetB6, efn.EfficientNetB7)\n",
    "    \n",
    "print(f'tf version: {tf.__version__}')"
   ]
  },
  {
   "cell_type": "code",
   "execution_count": 2,
   "metadata": {
    "execution": {
     "iopub.execute_input": "2021-01-08T21:45:23.738899Z",
     "iopub.status.busy": "2021-01-08T21:45:23.738283Z",
     "iopub.status.idle": "2021-01-08T21:45:36.278452Z",
     "shell.execute_reply": "2021-01-08T21:45:36.277862Z"
    },
    "papermill": {
     "duration": 12.55866,
     "end_time": "2021-01-08T21:45:36.278572",
     "exception": false,
     "start_time": "2021-01-08T21:45:23.719912",
     "status": "completed"
    },
    "tags": []
   },
   "outputs": [],
   "source": [
    "N_CLASSES = 9\n",
    "SEED = 17\n",
    "IMAGES_DIR = '/kaggle/input/skillbox-emotions/'\n",
    "TEST_DIR = IMAGES_DIR + '/test_kaggle'\n",
    "\n",
    "train_df = pd.read_csv('/kaggle/input/skillbox-computer-vision-project/train.csv').iloc[:, 1:]\n",
    "sub = pd.read_csv('/kaggle/input/skillbox-computer-vision-project/sample_submission.csv')\n",
    "images_test_filenames =  [f for f in os.listdir(TEST_DIR) if isfile(join(TEST_DIR, f))]\n",
    "\n",
    "train_df, val_df = train_test_split(train_df, test_size=0.1, random_state=SEED)"
   ]
  },
  {
   "cell_type": "code",
   "execution_count": 3,
   "metadata": {
    "execution": {
     "iopub.execute_input": "2021-01-08T21:45:36.303115Z",
     "iopub.status.busy": "2021-01-08T21:45:36.302489Z",
     "iopub.status.idle": "2021-01-08T21:45:36.306902Z",
     "shell.execute_reply": "2021-01-08T21:45:36.306395Z"
    },
    "papermill": {
     "duration": 0.019482,
     "end_time": "2021-01-08T21:45:36.307024",
     "exception": false,
     "start_time": "2021-01-08T21:45:36.287542",
     "status": "completed"
    },
    "tags": []
   },
   "outputs": [],
   "source": [
    "train_data_gen = tf.keras.preprocessing.image.ImageDataGenerator(\n",
    "                                    horizontal_flip=True, rotation_range=10, \n",
    "                                    brightness_range=[0.75, 1.25], \n",
    "                                    width_shift_range=0.15, height_shift_range=0.15)\n",
    "val_data_gen = tf.keras.preprocessing.image.ImageDataGenerator()\n",
    "test_data_gen = tf.keras.preprocessing.image.ImageDataGenerator()"
   ]
  },
  {
   "cell_type": "code",
   "execution_count": 4,
   "metadata": {
    "execution": {
     "iopub.execute_input": "2021-01-08T21:45:36.339723Z",
     "iopub.status.busy": "2021-01-08T21:45:36.332432Z",
     "iopub.status.idle": "2021-01-08T21:47:31.142180Z",
     "shell.execute_reply": "2021-01-08T21:47:31.142744Z"
    },
    "papermill": {
     "duration": 114.827513,
     "end_time": "2021-01-08T21:47:31.142923",
     "exception": false,
     "start_time": "2021-01-08T21:45:36.315410",
     "status": "completed"
    },
    "tags": []
   },
   "outputs": [
    {
     "name": "stdout",
     "output_type": "stream",
     "text": [
      "Found 45041 validated image filenames belonging to 9 classes.\n",
      "Found 5005 validated image filenames belonging to 9 classes.\n",
      "Found 5000 validated image filenames.\n"
     ]
    }
   ],
   "source": [
    "EFNET_NO = 4\n",
    "BATCH_SIZE = 16\n",
    "IMSIZES = (224, 240, 260, 300, 380, 456, 528, 600)\n",
    "IMAGE_SIZE = IMSIZES[EFNET_NO]\n",
    "\n",
    "train_data = train_data_gen.flow_from_dataframe(\n",
    "              train_df, directory=IMAGES_DIR, x_col='image_path', y_col='emotion', class_mode='sparse',\n",
    "              target_size=(IMAGE_SIZE, IMAGE_SIZE), batch_size=BATCH_SIZE, shuffle=True\n",
    "          )\n",
    "val_data = val_data_gen.flow_from_dataframe(\n",
    "              val_df, directory=IMAGES_DIR, x_col='image_path', y_col='emotion', class_mode='sparse',\n",
    "              target_size=(IMAGE_SIZE, IMAGE_SIZE), batch_size=BATCH_SIZE, shuffle=False\n",
    "          )\n",
    "test_data = test_data_gen.flow_from_dataframe(\n",
    "              sub, directory=TEST_DIR, x_col='image_path', y_col=None, class_mode=None,\n",
    "              target_size=(IMAGE_SIZE, IMAGE_SIZE), batch_size=BATCH_SIZE, shuffle=False\n",
    "          )"
   ]
  },
  {
   "cell_type": "code",
   "execution_count": 5,
   "metadata": {
    "execution": {
     "iopub.execute_input": "2021-01-08T21:47:31.172196Z",
     "iopub.status.busy": "2021-01-08T21:47:31.171554Z",
     "iopub.status.idle": "2021-01-08T21:47:42.629959Z",
     "shell.execute_reply": "2021-01-08T21:47:42.629357Z"
    },
    "papermill": {
     "duration": 11.477679,
     "end_time": "2021-01-08T21:47:42.630070",
     "exception": false,
     "start_time": "2021-01-08T21:47:31.152391",
     "status": "completed"
    },
    "tags": []
   },
   "outputs": [
    {
     "name": "stdout",
     "output_type": "stream",
     "text": [
      "Downloading data from https://storage.googleapis.com/keras-applications/efficientnetb4_notop.h5\n",
      "71688192/71686520 [==============================] - 1s 0us/step\n",
      "Model: \"sequential\"\n",
      "_________________________________________________________________\n",
      "Layer (type)                 Output Shape              Param #   \n",
      "=================================================================\n",
      "efficientnetb4 (Functional)  (None, 12, 12, 1792)      17673823  \n",
      "_________________________________________________________________\n",
      "global_average_pooling2d (Gl (None, 1792)              0         \n",
      "_________________________________________________________________\n",
      "dense (Dense)                (None, 9)                 16137     \n",
      "=================================================================\n",
      "Total params: 17,689,960\n",
      "Trainable params: 17,564,753\n",
      "Non-trainable params: 125,207\n",
      "_________________________________________________________________\n"
     ]
    }
   ],
   "source": [
    "model = tf.keras.Sequential([\n",
    "    EFNETS[EFNET_NO](\n",
    "        input_shape=(IMAGE_SIZE, IMAGE_SIZE, 3),\n",
    "        weights='imagenet',\n",
    "        include_top=False),\n",
    "    tf.keras.layers.GlobalAveragePooling2D(),\n",
    "    tf.keras.layers.Dense(N_CLASSES, activation='softmax')\n",
    "])\n",
    "model.compile(\n",
    "    optimizer=tf.keras.optimizers.Adam(),\n",
    "    loss='sparse_categorical_crossentropy',\n",
    "    metrics='accuracy')\n",
    "model.summary()"
   ]
  },
  {
   "cell_type": "code",
   "execution_count": 6,
   "metadata": {
    "execution": {
     "iopub.execute_input": "2021-01-08T21:47:42.665799Z",
     "iopub.status.busy": "2021-01-08T21:47:42.665233Z",
     "iopub.status.idle": "2021-01-08T21:47:42.669279Z",
     "shell.execute_reply": "2021-01-08T21:47:42.668785Z"
    },
    "papermill": {
     "duration": 0.024245,
     "end_time": "2021-01-08T21:47:42.669383",
     "exception": false,
     "start_time": "2021-01-08T21:47:42.645138",
     "status": "completed"
    },
    "tags": []
   },
   "outputs": [],
   "source": [
    "checkpoint = tf.keras.callbacks.ModelCheckpoint(\n",
    "    'model.h5', save_best_only=True, monitor='val_accuracy', mode='max', verbose=1)\n",
    "lr_reducer = tf.keras.callbacks.ReduceLROnPlateau(\n",
    "    monitor=\"val_accuracy\", patience=3, min_lr=3e-7, mode='max')"
   ]
  },
  {
   "cell_type": "code",
   "execution_count": 7,
   "metadata": {
    "execution": {
     "iopub.execute_input": "2021-01-08T21:47:42.708175Z",
     "iopub.status.busy": "2021-01-08T21:47:42.707539Z",
     "iopub.status.idle": "2021-01-09T03:59:44.130364Z",
     "shell.execute_reply": "2021-01-09T03:59:44.131202Z"
    },
    "papermill": {
     "duration": 22321.446655,
     "end_time": "2021-01-09T03:59:44.131428",
     "exception": false,
     "start_time": "2021-01-08T21:47:42.684773",
     "status": "completed"
    },
    "tags": []
   },
   "outputs": [
    {
     "name": "stdout",
     "output_type": "stream",
     "text": [
      "Epoch 1/7\n",
      "2816/2816 [==============================] - ETA: 0s - loss: 1.5881 - accuracy: 0.4213\n",
      "Epoch 00001: val_accuracy improved from -inf to 0.45155, saving model to model.h5\n",
      "2816/2816 [==============================] - 3404s 1s/step - loss: 1.5881 - accuracy: 0.4213 - val_loss: 1.4677 - val_accuracy: 0.4515\n",
      "Epoch 2/7\n",
      "2816/2816 [==============================] - ETA: 0s - loss: 1.4100 - accuracy: 0.4863\n",
      "Epoch 00002: val_accuracy improved from 0.45155 to 0.48112, saving model to model.h5\n",
      "2816/2816 [==============================] - 3209s 1s/step - loss: 1.4100 - accuracy: 0.4863 - val_loss: 1.4288 - val_accuracy: 0.4811\n",
      "Epoch 3/7\n",
      "2816/2816 [==============================] - ETA: 0s - loss: 1.3435 - accuracy: 0.5114\n",
      "Epoch 00003: val_accuracy improved from 0.48112 to 0.48971, saving model to model.h5\n",
      "2816/2816 [==============================] - 3233s 1s/step - loss: 1.3435 - accuracy: 0.5114 - val_loss: 1.4299 - val_accuracy: 0.4897\n",
      "Epoch 4/7\n",
      "2816/2816 [==============================] - ETA: 0s - loss: 1.2955 - accuracy: 0.5275\n",
      "Epoch 00004: val_accuracy improved from 0.48971 to 0.52128, saving model to model.h5\n",
      "2816/2816 [==============================] - 3175s 1s/step - loss: 1.2955 - accuracy: 0.5275 - val_loss: 1.3268 - val_accuracy: 0.5213\n",
      "Epoch 5/7\n",
      "2816/2816 [==============================] - ETA: 0s - loss: 1.2594 - accuracy: 0.5421\n",
      "Epoch 00005: val_accuracy improved from 0.52128 to 0.53447, saving model to model.h5\n",
      "2816/2816 [==============================] - 3121s 1s/step - loss: 1.2594 - accuracy: 0.5421 - val_loss: 1.3054 - val_accuracy: 0.5345\n",
      "Epoch 6/7\n",
      "2816/2816 [==============================] - ETA: 0s - loss: 1.2191 - accuracy: 0.5570\n",
      "Epoch 00006: val_accuracy did not improve from 0.53447\n",
      "2816/2816 [==============================] - 3027s 1s/step - loss: 1.2191 - accuracy: 0.5570 - val_loss: 1.2863 - val_accuracy: 0.5343\n",
      "Epoch 7/7\n",
      "2816/2816 [==============================] - ETA: 0s - loss: 1.1878 - accuracy: 0.5653\n",
      "Epoch 00007: val_accuracy did not improve from 0.53447\n",
      "2816/2816 [==============================] - 3109s 1s/step - loss: 1.1878 - accuracy: 0.5653 - val_loss: 1.3529 - val_accuracy: 0.5205\n"
     ]
    }
   ],
   "source": [
    "history = model.fit(\n",
    "    train_data, validation_data=val_data, \n",
    "    epochs=7, callbacks=[checkpoint, lr_reducer])"
   ]
  },
  {
   "cell_type": "code",
   "execution_count": 8,
   "metadata": {
    "execution": {
     "iopub.execute_input": "2021-01-09T03:59:57.912496Z",
     "iopub.status.busy": "2021-01-09T03:59:57.886980Z",
     "iopub.status.idle": "2021-01-09T03:59:58.317410Z",
     "shell.execute_reply": "2021-01-09T03:59:58.316750Z"
    },
    "papermill": {
     "duration": 7.513103,
     "end_time": "2021-01-09T03:59:58.317536",
     "exception": false,
     "start_time": "2021-01-09T03:59:50.804433",
     "status": "completed"
    },
    "tags": []
   },
   "outputs": [],
   "source": [
    "model.load_weights('model.h5')"
   ]
  },
  {
   "cell_type": "code",
   "execution_count": 9,
   "metadata": {
    "execution": {
     "iopub.execute_input": "2021-01-09T04:00:13.534583Z",
     "iopub.status.busy": "2021-01-09T04:00:13.533661Z",
     "iopub.status.idle": "2021-01-09T04:00:13.535612Z",
     "shell.execute_reply": "2021-01-09T04:00:13.536108Z"
    },
    "papermill": {
     "duration": 7.44364,
     "end_time": "2021-01-09T04:00:13.536231",
     "exception": false,
     "start_time": "2021-01-09T04:00:06.092591",
     "status": "completed"
    },
    "tags": []
   },
   "outputs": [],
   "source": [
    "mapping = {k: i for i, k in train_data.class_indices.items()}"
   ]
  },
  {
   "cell_type": "code",
   "execution_count": 10,
   "metadata": {
    "execution": {
     "iopub.execute_input": "2021-01-09T04:00:27.143891Z",
     "iopub.status.busy": "2021-01-09T04:00:27.142181Z",
     "iopub.status.idle": "2021-01-09T04:01:55.713801Z",
     "shell.execute_reply": "2021-01-09T04:01:55.712831Z"
    },
    "papermill": {
     "duration": 95.261365,
     "end_time": "2021-01-09T04:01:55.715478",
     "exception": false,
     "start_time": "2021-01-09T04:00:20.454113",
     "status": "completed"
    },
    "tags": []
   },
   "outputs": [],
   "source": [
    "test_preds = model.predict_classes(test_data)\n",
    "test_preds = [mapping[i] for i in test_preds]\n",
    "sub['emotion'] = test_preds\n",
    "sub.to_csv('preds.csv', index=False)"
   ]
  }
 ],
 "metadata": {
  "kernelspec": {
   "display_name": "Python 3",
   "language": "python",
   "name": "python3"
  },
  "language_info": {
   "codemirror_mode": {
    "name": "ipython",
    "version": 3
   },
   "file_extension": ".py",
   "mimetype": "text/x-python",
   "name": "python",
   "nbconvert_exporter": "python",
   "pygments_lexer": "ipython3",
   "version": "3.7.6"
  },
  "papermill": {
   "duration": 22611.458092,
   "end_time": "2021-01-09T04:02:04.370585",
   "environment_variables": {},
   "exception": null,
   "input_path": "__notebook__.ipynb",
   "output_path": "__notebook__.ipynb",
   "parameters": {},
   "start_time": "2021-01-08T21:45:12.912493",
   "version": "2.1.0"
  }
 },
 "nbformat": 4,
 "nbformat_minor": 4
}
