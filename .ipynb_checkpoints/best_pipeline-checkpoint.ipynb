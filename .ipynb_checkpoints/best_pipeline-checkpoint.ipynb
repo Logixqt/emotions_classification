{
 "cells": [
  {
   "cell_type": "markdown",
   "metadata": {},
   "source": [
    "### Importing the libraries"
   ]
  },
  {
   "cell_type": "code",
   "execution_count": 1,
   "metadata": {
    "_cell_guid": "b1076dfc-b9ad-4769-8c92-a6c4dae69d19",
    "_uuid": "8f2839f25d086af736a60e9eeb907d3b93b6e0e5",
    "execution": {
     "iopub.execute_input": "2021-01-10T12:19:40.179920Z",
     "iopub.status.busy": "2021-01-10T12:19:40.179339Z",
     "iopub.status.idle": "2021-01-10T12:19:44.982661Z",
     "shell.execute_reply": "2021-01-10T12:19:44.983290Z"
    },
    "papermill": {
     "duration": 4.820377,
     "end_time": "2021-01-10T12:19:44.983483",
     "exception": false,
     "start_time": "2021-01-10T12:19:40.163106",
     "status": "completed"
    },
    "tags": []
   },
   "outputs": [
    {
     "name": "stdout",
     "output_type": "stream",
     "text": [
      "tf version: 2.3.1\n"
     ]
    }
   ],
   "source": [
    "import numpy as np\n",
    "import pandas as pd\n",
    "from sklearn.model_selection import train_test_split\n",
    "import tensorflow as tf\n",
    "import tensorflow.keras.applications.efficientnet as efn\n",
    "    \n",
    "print(f'tf version: {tf.__version__}')"
   ]
  },
  {
   "cell_type": "markdown",
   "metadata": {},
   "source": [
    "### Defining some variables"
   ]
  },
  {
   "cell_type": "code",
   "execution_count": 2,
   "metadata": {
    "execution": {
     "iopub.execute_input": "2021-01-10T12:19:45.009398Z",
     "iopub.status.busy": "2021-01-10T12:19:45.008832Z",
     "iopub.status.idle": "2021-01-10T12:19:45.098914Z",
     "shell.execute_reply": "2021-01-10T12:19:45.097933Z"
    },
    "papermill": {
     "duration": 0.106185,
     "end_time": "2021-01-10T12:19:45.099022",
     "exception": false,
     "start_time": "2021-01-10T12:19:44.992837",
     "status": "completed"
    },
    "tags": []
   },
   "outputs": [],
   "source": [
    "EFNETS = (efn.EfficientNetB0, efn.EfficientNetB1, efn.EfficientNetB2, efn.EfficientNetB3, \n",
    "          efn.EfficientNetB4, efn.EfficientNetB5, efn.EfficientNetB6, efn.EfficientNetB7)\n",
    "IMSIZES = (224, 240, 260, 300, 380, 456, 528, 600)\n",
    "# made for convenience, EFNETS[i] corresponds to EfficientNetBi\n",
    "# and IMSIZES[i] corresponds to EfficientNetBi Input image size\n",
    "\n",
    "EFNET_NO = 1 # EfficientNetB1 performed the best\n",
    "BATCH_SIZE = 64\n",
    "IMAGE_SIZE = IMSIZES[EFNET_NO]\n",
    "\n",
    "N_CLASSES = 9 # we've got 9 emotions to predict\n",
    "SEED = 17 # just for train_test_split, where I define validation dataset\n",
    "IMAGES_DIR = '/kaggle/input/skillbox-emotions/'\n",
    "TEST_DIR = IMAGES_DIR + '/test_kaggle'\n",
    "\n",
    "train_df = pd.read_csv('/kaggle/input/skillbox-computer-vision-project/train.csv').iloc[:, 1:]\n",
    "sub = pd.read_csv('/kaggle/input/skillbox-computer-vision-project/sample_submission.csv')\n",
    "\n",
    "train_df, val_df = train_test_split(train_df, test_size=0.1, random_state=SEED)\n",
    "# this split is made only for validation part extraction, we have a test set \n",
    "# to evaluate our model on via Kaggle"
   ]
  },
  {
   "cell_type": "markdown",
   "metadata": {},
   "source": [
    "### Creating data generators\n",
    "Here we create data_generators adding some augmentations for training dataset, which helped to improve generalization power of the model"
   ]
  },
  {
   "cell_type": "code",
   "execution_count": 3,
   "metadata": {
    "execution": {
     "iopub.execute_input": "2021-01-10T12:19:45.122563Z",
     "iopub.status.busy": "2021-01-10T12:19:45.120733Z",
     "iopub.status.idle": "2021-01-10T12:19:45.123252Z",
     "shell.execute_reply": "2021-01-10T12:19:45.123674Z"
    },
    "papermill": {
     "duration": 0.016473,
     "end_time": "2021-01-10T12:19:45.123778",
     "exception": false,
     "start_time": "2021-01-10T12:19:45.107305",
     "status": "completed"
    },
    "tags": []
   },
   "outputs": [],
   "source": [
    "train_data_gen = tf.keras.preprocessing.image.ImageDataGenerator(\n",
    "                                    horizontal_flip=True, rotation_range=15, \n",
    "                                    width_shift_range=0.15, height_shift_range=0.15)\n",
    "val_data_gen = tf.keras.preprocessing.image.ImageDataGenerator()\n",
    "test_data_gen = tf.keras.preprocessing.image.ImageDataGenerator()"
   ]
  },
  {
   "cell_type": "code",
   "execution_count": 4,
   "metadata": {
    "execution": {
     "iopub.execute_input": "2021-01-10T12:19:45.148802Z",
     "iopub.status.busy": "2021-01-10T12:19:45.147777Z",
     "iopub.status.idle": "2021-01-10T12:20:21.926994Z",
     "shell.execute_reply": "2021-01-10T12:20:21.927727Z"
    },
    "papermill": {
     "duration": 36.795807,
     "end_time": "2021-01-10T12:20:21.927890",
     "exception": false,
     "start_time": "2021-01-10T12:19:45.132083",
     "status": "completed"
    },
    "tags": []
   },
   "outputs": [
    {
     "name": "stdout",
     "output_type": "stream",
     "text": [
      "Found 45041 validated image filenames belonging to 9 classes.\n",
      "Found 5005 validated image filenames belonging to 9 classes.\n",
      "Found 5000 validated image filenames.\n"
     ]
    }
   ],
   "source": [
    "train_data = train_data_gen.flow_from_dataframe(\n",
    "              train_df, directory=IMAGES_DIR, x_col='image_path', y_col='emotion', class_mode='sparse',\n",
    "              target_size=(IMAGE_SIZE, IMAGE_SIZE), batch_size=BATCH_SIZE, shuffle=True\n",
    "          )\n",
    "val_data = val_data_gen.flow_from_dataframe(\n",
    "              val_df, directory=IMAGES_DIR, x_col='image_path', y_col='emotion', class_mode='sparse',\n",
    "              target_size=(IMAGE_SIZE, IMAGE_SIZE), batch_size=BATCH_SIZE, shuffle=False\n",
    "          )\n",
    "test_data = test_data_gen.flow_from_dataframe(\n",
    "              sub, directory=TEST_DIR, x_col='image_path', y_col=None, class_mode=None,\n",
    "              target_size=(IMAGE_SIZE, IMAGE_SIZE), batch_size=BATCH_SIZE, shuffle=False\n",
    "          )"
   ]
  },
  {
   "cell_type": "code",
   "execution_count": 5,
   "metadata": {
    "execution": {
     "iopub.execute_input": "2021-01-10T12:20:21.951525Z",
     "iopub.status.busy": "2021-01-10T12:20:21.950803Z",
     "iopub.status.idle": "2021-01-10T12:20:21.953775Z",
     "shell.execute_reply": "2021-01-10T12:20:21.953368Z"
    },
    "papermill": {
     "duration": 0.01605,
     "end_time": "2021-01-10T12:20:21.953860",
     "exception": false,
     "start_time": "2021-01-10T12:20:21.937810",
     "status": "completed"
    },
    "tags": []
   },
   "outputs": [],
   "source": [
    "MAPPING = {k: i for i, k in train_data.class_indices.items()} # to decode predictions"
   ]
  },
  {
   "cell_type": "markdown",
   "metadata": {},
   "source": [
    "### Defining the model\n",
    "I wrote a child class of tf.keras.Sequential just adding a TTA prediction method which averages the predictions on base image and it's flipped copy"
   ]
  },
  {
   "cell_type": "code",
   "execution_count": 6,
   "metadata": {
    "execution": {
     "iopub.execute_input": "2021-01-10T12:20:21.980770Z",
     "iopub.status.busy": "2021-01-10T12:20:21.980222Z",
     "iopub.status.idle": "2021-01-10T12:20:21.982711Z",
     "shell.execute_reply": "2021-01-10T12:20:21.983245Z"
    },
    "papermill": {
     "duration": 0.0201,
     "end_time": "2021-01-10T12:20:21.983349",
     "exception": false,
     "start_time": "2021-01-10T12:20:21.963249",
     "status": "completed"
    },
    "tags": []
   },
   "outputs": [],
   "source": [
    "class MySequential(tf.keras.Sequential):\n",
    "    def predict_tta(self, data_generator):\n",
    "        tta_preds = []\n",
    "        i = 0 # counter\n",
    "        images_count = data_generator.n # to be able to stop the loop\n",
    "        for curr_im_batch in data_generator:\n",
    "            for curr_img in curr_im_batch:\n",
    "                pred = self.predict(curr_img[None, ...])\n",
    "                pred_f = self.predict(np.flip(curr_img, axis=1)[None, ...])\n",
    "                tta_pred = np.stack((pred, pred_f)).mean(axis=0)[0]\n",
    "                tta_preds.append(tta_pred)\n",
    "                \n",
    "                i += 1 # for process monitoring\n",
    "                if i % 1000 == 0:\n",
    "                    print(f'{i}/{images_count} images processed')\n",
    "            \n",
    "            # now we check whether it's time to stop the loop\n",
    "            # otherwise we will iterate the generator forever    \n",
    "            if i == images_count:\n",
    "                print('Done')\n",
    "                break\n",
    "            \n",
    "        return np.array(tta_preds)"
   ]
  },
  {
   "cell_type": "code",
   "execution_count": 7,
   "metadata": {
    "execution": {
     "iopub.execute_input": "2021-01-10T12:20:22.010289Z",
     "iopub.status.busy": "2021-01-10T12:20:22.009750Z",
     "iopub.status.idle": "2021-01-10T12:20:31.378089Z",
     "shell.execute_reply": "2021-01-10T12:20:31.378573Z"
    },
    "papermill": {
     "duration": 9.38602,
     "end_time": "2021-01-10T12:20:31.378738",
     "exception": false,
     "start_time": "2021-01-10T12:20:21.992718",
     "status": "completed"
    },
    "tags": []
   },
   "outputs": [
    {
     "name": "stdout",
     "output_type": "stream",
     "text": [
      "Downloading data from https://storage.googleapis.com/keras-applications/efficientnetb1_notop.h5\n",
      "27025408/27018416 [==============================] - 1s 0us/step\n",
      "Model: \"my_sequential\"\n",
      "_________________________________________________________________\n",
      "Layer (type)                 Output Shape              Param #   \n",
      "=================================================================\n",
      "efficientnetb1 (Functional)  (None, 8, 8, 1280)        6575239   \n",
      "_________________________________________________________________\n",
      "global_average_pooling2d (Gl (None, 1280)              0         \n",
      "_________________________________________________________________\n",
      "dense (Dense)                (None, 9)                 11529     \n",
      "=================================================================\n",
      "Total params: 6,586,768\n",
      "Trainable params: 6,524,713\n",
      "Non-trainable params: 62,055\n",
      "_________________________________________________________________\n"
     ]
    }
   ],
   "source": [
    "model = MySequential([\n",
    "    EFNETS[EFNET_NO](\n",
    "        input_shape=(IMAGE_SIZE, IMAGE_SIZE, 3),\n",
    "        weights='imagenet', # defining the model with imagenet weights makes the training process faster\n",
    "        include_top=False),\n",
    "    tf.keras.layers.GlobalAveragePooling2D(),\n",
    "    tf.keras.layers.Dense(N_CLASSES, activation='softmax')\n",
    "])\n",
    "model.compile(\n",
    "    optimizer=tf.keras.optimizers.Adam(),\n",
    "    loss='sparse_categorical_crossentropy',\n",
    "    metrics='accuracy')\n",
    "model.summary()"
   ]
  },
  {
   "cell_type": "code",
   "execution_count": 8,
   "metadata": {
    "execution": {
     "iopub.execute_input": "2021-01-10T12:20:31.409925Z",
     "iopub.status.busy": "2021-01-10T12:20:31.408089Z",
     "iopub.status.idle": "2021-01-10T12:20:31.410606Z",
     "shell.execute_reply": "2021-01-10T12:20:31.411061Z"
    },
    "papermill": {
     "duration": 0.01989,
     "end_time": "2021-01-10T12:20:31.411176",
     "exception": false,
     "start_time": "2021-01-10T12:20:31.391286",
     "status": "completed"
    },
    "tags": []
   },
   "outputs": [],
   "source": [
    "checkpoint = tf.keras.callbacks.ModelCheckpoint(\n",
    "    'model.h5', save_best_only=True, monitor='val_accuracy', mode='max', verbose=1)\n",
    "lr_reducer = tf.keras.callbacks.ReduceLROnPlateau(\n",
    "    monitor=\"val_accuracy\", patience=3, min_lr=3e-7, mode='max')"
   ]
  },
  {
   "cell_type": "code",
   "execution_count": 9,
   "metadata": {
    "execution": {
     "iopub.execute_input": "2021-01-10T12:20:31.441749Z",
     "iopub.status.busy": "2021-01-10T12:20:31.441244Z",
     "iopub.status.idle": "2021-01-10T18:32:33.121782Z",
     "shell.execute_reply": "2021-01-10T18:32:33.122552Z"
    },
    "papermill": {
     "duration": 22321.699287,
     "end_time": "2021-01-10T18:32:33.122748",
     "exception": false,
     "start_time": "2021-01-10T12:20:31.423461",
     "status": "completed"
    },
    "tags": []
   },
   "outputs": [
    {
     "name": "stdout",
     "output_type": "stream",
     "text": [
      "Epoch 1/20\n",
      "704/704 [==============================] - ETA: 0s - loss: 1.5095 - accuracy: 0.4495\n",
      "Epoch 00001: val_accuracy improved from -inf to 0.49151, saving model to model.h5\n",
      "704/704 [==============================] - 1329s 2s/step - loss: 1.5095 - accuracy: 0.4495 - val_loss: 1.4278 - val_accuracy: 0.4915\n",
      "Epoch 2/20\n",
      "704/704 [==============================] - ETA: 0s - loss: 1.3295 - accuracy: 0.5166\n",
      "Epoch 00002: val_accuracy improved from 0.49151 to 0.49670, saving model to model.h5\n",
      "704/704 [==============================] - 1085s 2s/step - loss: 1.3295 - accuracy: 0.5166 - val_loss: 1.3746 - val_accuracy: 0.4967\n",
      "Epoch 3/20\n",
      "704/704 [==============================] - ETA: 0s - loss: 1.2677 - accuracy: 0.5377\n",
      "Epoch 00003: val_accuracy did not improve from 0.49670\n",
      "704/704 [==============================] - 1086s 2s/step - loss: 1.2677 - accuracy: 0.5377 - val_loss: 1.4466 - val_accuracy: 0.4845\n",
      "Epoch 4/20\n",
      "704/704 [==============================] - ETA: 0s - loss: 1.2194 - accuracy: 0.5533\n",
      "Epoch 00004: val_accuracy improved from 0.49670 to 0.52547, saving model to model.h5\n",
      "704/704 [==============================] - 1080s 2s/step - loss: 1.2194 - accuracy: 0.5533 - val_loss: 1.3073 - val_accuracy: 0.5255\n",
      "Epoch 5/20\n",
      "704/704 [==============================] - ETA: 0s - loss: 1.1820 - accuracy: 0.5700\n",
      "Epoch 00005: val_accuracy improved from 0.52547 to 0.52967, saving model to model.h5\n",
      "704/704 [==============================] - 1105s 2s/step - loss: 1.1820 - accuracy: 0.5700 - val_loss: 1.3318 - val_accuracy: 0.5297\n",
      "Epoch 6/20\n",
      "704/704 [==============================] - ETA: 0s - loss: 1.1461 - accuracy: 0.5797\n",
      "Epoch 00006: val_accuracy improved from 0.52967 to 0.53067, saving model to model.h5\n",
      "704/704 [==============================] - 1096s 2s/step - loss: 1.1461 - accuracy: 0.5797 - val_loss: 1.3006 - val_accuracy: 0.5307\n",
      "Epoch 7/20\n",
      "704/704 [==============================] - ETA: 0s - loss: 1.1117 - accuracy: 0.5945\n",
      "Epoch 00007: val_accuracy improved from 0.53067 to 0.53666, saving model to model.h5\n",
      "704/704 [==============================] - 1086s 2s/step - loss: 1.1117 - accuracy: 0.5945 - val_loss: 1.3183 - val_accuracy: 0.5367\n",
      "Epoch 8/20\n",
      "704/704 [==============================] - ETA: 0s - loss: 1.0734 - accuracy: 0.6084\n",
      "Epoch 00008: val_accuracy did not improve from 0.53666\n",
      "704/704 [==============================] - 1092s 2s/step - loss: 1.0734 - accuracy: 0.6084 - val_loss: 1.3447 - val_accuracy: 0.5265\n",
      "Epoch 9/20\n",
      "704/704 [==============================] - ETA: 0s - loss: 1.0379 - accuracy: 0.6228\n",
      "Epoch 00009: val_accuracy did not improve from 0.53666\n",
      "704/704 [==============================] - 1092s 2s/step - loss: 1.0379 - accuracy: 0.6228 - val_loss: 1.3307 - val_accuracy: 0.5327\n",
      "Epoch 10/20\n",
      "704/704 [==============================] - ETA: 0s - loss: 0.9949 - accuracy: 0.6355\n",
      "Epoch 00010: val_accuracy did not improve from 0.53666\n",
      "704/704 [==============================] - 1097s 2s/step - loss: 0.9949 - accuracy: 0.6355 - val_loss: 1.3680 - val_accuracy: 0.5285\n",
      "Epoch 11/20\n",
      "704/704 [==============================] - ETA: 0s - loss: 0.8095 - accuracy: 0.7039\n",
      "Epoch 00011: val_accuracy improved from 0.53666 to 0.55105, saving model to model.h5\n",
      "704/704 [==============================] - 1100s 2s/step - loss: 0.8095 - accuracy: 0.7039 - val_loss: 1.3561 - val_accuracy: 0.5510\n",
      "Epoch 12/20\n",
      "704/704 [==============================] - ETA: 0s - loss: 0.7314 - accuracy: 0.7331\n",
      "Epoch 00012: val_accuracy did not improve from 0.55105\n",
      "704/704 [==============================] - 1105s 2s/step - loss: 0.7314 - accuracy: 0.7331 - val_loss: 1.3953 - val_accuracy: 0.5473\n",
      "Epoch 13/20\n",
      "704/704 [==============================] - ETA: 0s - loss: 0.6817 - accuracy: 0.7495\n",
      "Epoch 00013: val_accuracy did not improve from 0.55105\n",
      "704/704 [==============================] - 1111s 2s/step - loss: 0.6817 - accuracy: 0.7495 - val_loss: 1.4655 - val_accuracy: 0.5411\n",
      "Epoch 14/20\n",
      "704/704 [==============================] - ETA: 0s - loss: 0.6481 - accuracy: 0.7605\n",
      "Epoch 00014: val_accuracy did not improve from 0.55105\n",
      "704/704 [==============================] - 1117s 2s/step - loss: 0.6481 - accuracy: 0.7605 - val_loss: 1.5061 - val_accuracy: 0.5379\n",
      "Epoch 15/20\n",
      "704/704 [==============================] - ETA: 0s - loss: 0.6008 - accuracy: 0.7803\n",
      "Epoch 00015: val_accuracy did not improve from 0.55105\n",
      "704/704 [==============================] - 1118s 2s/step - loss: 0.6008 - accuracy: 0.7803 - val_loss: 1.5213 - val_accuracy: 0.5425\n",
      "Epoch 16/20\n",
      "704/704 [==============================] - ETA: 0s - loss: 0.5893 - accuracy: 0.7840\n",
      "Epoch 00016: val_accuracy did not improve from 0.55105\n",
      "704/704 [==============================] - 1122s 2s/step - loss: 0.5893 - accuracy: 0.7840 - val_loss: 1.5355 - val_accuracy: 0.5399\n",
      "Epoch 17/20\n",
      "704/704 [==============================] - ETA: 0s - loss: 0.5856 - accuracy: 0.7845\n",
      "Epoch 00017: val_accuracy did not improve from 0.55105\n",
      "704/704 [==============================] - 1125s 2s/step - loss: 0.5856 - accuracy: 0.7845 - val_loss: 1.5499 - val_accuracy: 0.5387\n",
      "Epoch 18/20\n",
      "704/704 [==============================] - ETA: 0s - loss: 0.5809 - accuracy: 0.7864\n",
      "Epoch 00018: val_accuracy did not improve from 0.55105\n",
      "704/704 [==============================] - 1108s 2s/step - loss: 0.5809 - accuracy: 0.7864 - val_loss: 1.5520 - val_accuracy: 0.5399\n",
      "Epoch 19/20\n",
      "704/704 [==============================] - ETA: 0s - loss: 0.5823 - accuracy: 0.7848\n",
      "Epoch 00019: val_accuracy did not improve from 0.55105\n",
      "704/704 [==============================] - 1096s 2s/step - loss: 0.5823 - accuracy: 0.7848 - val_loss: 1.5536 - val_accuracy: 0.5393\n",
      "Epoch 20/20\n",
      "704/704 [==============================] - ETA: 0s - loss: 0.5782 - accuracy: 0.7871\n",
      "Epoch 00020: val_accuracy did not improve from 0.55105\n",
      "704/704 [==============================] - 1100s 2s/step - loss: 0.5782 - accuracy: 0.7871 - val_loss: 1.5537 - val_accuracy: 0.5387\n"
     ]
    }
   ],
   "source": [
    "EPOCHS = 20\n",
    "history = model.fit(\n",
    "    train_data, validation_data=val_data, \n",
    "    epochs=EPOCHS, callbacks=[checkpoint, lr_reducer])"
   ]
  },
  {
   "cell_type": "code",
   "execution_count": 10,
   "metadata": {
    "execution": {
     "iopub.execute_input": "2021-01-10T18:32:42.213622Z",
     "iopub.status.busy": "2021-01-10T18:32:42.212810Z",
     "iopub.status.idle": "2021-01-10T18:32:42.571850Z",
     "shell.execute_reply": "2021-01-10T18:32:42.570947Z"
    },
    "papermill": {
     "duration": 5.144218,
     "end_time": "2021-01-10T18:32:42.571960",
     "exception": false,
     "start_time": "2021-01-10T18:32:37.427742",
     "status": "completed"
    },
    "tags": []
   },
   "outputs": [],
   "source": [
    "model.load_weights('model.h5')"
   ]
  },
  {
   "cell_type": "markdown",
   "metadata": {},
   "source": [
    "### Making predictions and submitting results"
   ]
  },
  {
   "cell_type": "code",
   "execution_count": 11,
   "metadata": {
    "execution": {
     "iopub.execute_input": "2021-01-10T18:32:50.482099Z",
     "iopub.status.busy": "2021-01-10T18:32:50.481396Z",
     "iopub.status.idle": "2021-01-10T18:41:08.217484Z",
     "shell.execute_reply": "2021-01-10T18:41:08.218157Z"
    },
    "papermill": {
     "duration": 501.677888,
     "end_time": "2021-01-10T18:41:08.218308",
     "exception": false,
     "start_time": "2021-01-10T18:32:46.540420",
     "status": "completed"
    },
    "tags": []
   },
   "outputs": [
    {
     "name": "stdout",
     "output_type": "stream",
     "text": [
      "1000/5000 images processed\n",
      "2000/5000 images processed\n",
      "3000/5000 images processed\n",
      "4000/5000 images processed\n",
      "5000/5000 images processed\n",
      "Done\n"
     ]
    }
   ],
   "source": [
    "tta_preds = model.predict_tta(test_data)"
   ]
  },
  {
   "cell_type": "code",
   "execution_count": 12,
   "metadata": {
    "execution": {
     "iopub.execute_input": "2021-01-10T18:41:16.151503Z",
     "iopub.status.busy": "2021-01-10T18:41:16.149570Z",
     "iopub.status.idle": "2021-01-10T18:41:16.152116Z",
     "shell.execute_reply": "2021-01-10T18:41:16.152555Z"
    },
    "papermill": {
     "duration": 4.04064,
     "end_time": "2021-01-10T18:41:16.152669",
     "exception": false,
     "start_time": "2021-01-10T18:41:12.112029",
     "status": "completed"
    },
    "tags": []
   },
   "outputs": [],
   "source": [
    "def make_submission(preds, submission_df=sub, out_file='submission.csv', class_names=MAPPING):\n",
    "    preds = preds.argmax(axis=-1)\n",
    "    preds = [class_names[i] for i in preds]\n",
    "    submission_df['emotion'] = preds\n",
    "    submission_df.to_csv(out_file, index=False)\n",
    "    submission_df.head()"
   ]
  },
  {
   "cell_type": "code",
   "execution_count": 13,
   "metadata": {
    "execution": {
     "iopub.execute_input": "2021-01-10T18:41:24.351480Z",
     "iopub.status.busy": "2021-01-10T18:41:24.346739Z",
     "iopub.status.idle": "2021-01-10T18:41:24.571300Z",
     "shell.execute_reply": "2021-01-10T18:41:24.569904Z"
    },
    "papermill": {
     "duration": 4.119195,
     "end_time": "2021-01-10T18:41:24.571413",
     "exception": false,
     "start_time": "2021-01-10T18:41:20.452218",
     "status": "completed"
    },
    "tags": []
   },
   "outputs": [],
   "source": [
    "make_submission(preds=tta_preds, out_file='tta_preds.csv')"
   ]
  },
  {
   "cell_type": "markdown",
   "metadata": {},
   "source": [
    "Got 0.5736 categorization accuracy at private leaderboard"
   ]
  }
 ],
 "metadata": {
  "kernelspec": {
   "display_name": "Python 3",
   "language": "python",
   "name": "python3"
  },
  "language_info": {
   "codemirror_mode": {
    "name": "ipython",
    "version": 3
   },
   "file_extension": ".py",
   "mimetype": "text/x-python",
   "name": "python",
   "nbconvert_exporter": "python",
   "pygments_lexer": "ipython3",
   "version": "3.8.3"
  },
  "papermill": {
   "duration": 22914.663813,
   "end_time": "2021-01-10T18:41:30.725166",
   "environment_variables": {},
   "exception": null,
   "input_path": "__notebook__.ipynb",
   "output_path": "__notebook__.ipynb",
   "parameters": {},
   "start_time": "2021-01-10T12:19:36.061353",
   "version": "2.1.0"
  }
 },
 "nbformat": 4,
 "nbformat_minor": 4
}
